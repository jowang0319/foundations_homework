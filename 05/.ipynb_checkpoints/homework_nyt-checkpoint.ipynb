{
 "cells": [
  {
   "cell_type": "markdown",
   "metadata": {},
   "source": [
    "Graded = 8/8"
   ]
  },
  {
   "cell_type": "code",
   "execution_count": 12,
   "metadata": {
    "collapsed": false
   },
   "outputs": [],
   "source": [
    "import requests"
   ]
  },
  {
   "cell_type": "markdown",
   "metadata": {
    "collapsed": true
   },
   "source": [
    "API-key: 189d1e81816d4b3b89343d60d2e61cc1"
   ]
  },
  {
   "cell_type": "markdown",
   "metadata": {},
   "source": [
    "## 1) What books topped the Hardcover Fiction NYT best-sellers list on Mother's Day in 2009 and 2010? How about Father's Day?"
   ]
  },
  {
   "cell_type": "code",
   "execution_count": 13,
   "metadata": {
    "collapsed": false
   },
   "outputs": [
    {
     "name": "stdout",
     "output_type": "stream",
     "text": [
      "09 mother's day:\n",
      "FIRST FAMILY\n",
      "TEA TIME FOR THE TRADITIONALLY BUILT\n",
      "LOITERING WITH INTENT\n",
      "JUST TAKE MY HEART\n",
      "THE PERFECT POISON\n",
      "THE HOST\n",
      "LOOK AGAIN\n",
      "DEADLOCK\n",
      "LONG LOST\n",
      "TURN COAT\n",
      "THE ASSOCIATE\n",
      "HANDLE WITH CARE\n",
      "THE HELP\n",
      "THE GUERNSEY LITERARY AND POTATO PEEL PIE SOCIETY\n",
      "FATALLY FLAKY\n",
      "ARTHAS\n",
      "A RELIABLE WIFE\n",
      "BORDERLINE\n",
      "ONE SECOND AFTER\n",
      "BONEMAN'S DAUGHTERS\n",
      "\n",
      "10 mother's day\n",
      "DELIVER US FROM EVIL\n",
      "THE HELP\n",
      "THE DOUBLE COMFORT SAFARI CLUB\n",
      "THIS BODY OF DEATH\n",
      "LUCID INTERVALS\n",
      "THE SHADOW OF YOUR SMILE\n",
      "BURNING LAMP\n",
      "EVERY LAST ONE\n",
      "EIGHT DAYS TO LIVE\n",
      "CHANGES\n",
      "CAUGHT\n",
      "HOUSE RULES\n",
      "MATTERHORN\n",
      "THE WALK\n",
      "DECEPTION\n",
      "BEATRICE AND VIRGIL\n",
      "WRECKED\n",
      "SILVER BORNE\n",
      "ABRAHAM LINCOLN: VAMPIRE HUNTER\n",
      "A RIVER IN THE SKY\n",
      "\n",
      "09 father's day\n",
      "SKIN TRADE\n",
      "MEDUSA\n",
      "THE SCARECROW\n",
      "SHANGHAI GIRLS\n",
      "MATTERS OF THE HEART\n",
      "GONE TOMORROW\n",
      "DEAD AND GONE\n",
      "THE 8TH CONFESSION\n",
      "THE STRAIN\n",
      "WICKED PREY\n",
      "THE HOST\n",
      "FIRST FAMILY\n",
      "CEMETERY DANCE\n",
      "UNDEAD AND UNWELCOME\n",
      "THE HELP\n",
      "PYGMY\n",
      "MY FATHER'S TEARS AND OTHER STORIES\n",
      "ROAD DOGS\n",
      "THE STORY SISTERS\n",
      "HEARTLESS\n",
      "\n",
      "10 father's day\n",
      "THE GIRL WHO KICKED THE HORNET’S NEST\n",
      "BULLET\n",
      "THE SPY\n",
      "THE HELP\n",
      "DEAD IN THE FAMILY\n",
      "61 HOURS\n",
      "THE BURNING WIRE\n",
      "STORM PREY\n",
      "THE BOURNE OBJECTIVE\n",
      "INNOCENT\n",
      "HEART OF THE MATTER\n",
      "THE 9TH JUDGMENT\n",
      "BLOCKADE BILLY\n",
      "ALLIES\n",
      "THE RULE OF NINE\n",
      "FEVER DREAM\n",
      "DELIVER US FROM EVIL\n",
      "MATTERHORN\n",
      "THE PARTICULAR SADNESS OF LEMON CAKE\n",
      "DANGEROUS\n"
     ]
    }
   ],
   "source": [
    "# 09 mother's day\n",
    "print(\"09 mother's day:\")\n",
    "md_09_response = requests.get(\"https://api.nytimes.com/svc/books/v3/lists/2009-05-10/hardcover-fiction.json?api-key=189d1e81816d4b3b89343d60d2e61cc1\")\n",
    "md_09_data = md_09_response.json()\n",
    "md_09 = md_09_data['results']['books']\n",
    "for i in md_09:\n",
    "    print(i['title'])\n",
    "\n",
    "print(\"\")\n",
    "# 10 mother's day\n",
    "print(\"10 mother's day\")\n",
    "md_10_response = requests.get(\"https://api.nytimes.com/svc/books/v3/lists/2010-05-09/hardcover-fiction.json?api-key=189d1e81816d4b3b89343d60d2e61cc1\")\n",
    "md_10_data = md_10_response.json()\n",
    "md_10 = md_10_data['results']['books']\n",
    "for i in md_10:\n",
    "    print(i['title'])\n",
    "    \n",
    "print(\"\")\n",
    "# 09 father's day\n",
    "print(\"09 father's day\")\n",
    "fd_09_response = requests.get(\"https://api.nytimes.com/svc/books/v3/lists/2009-06-21/hardcover-fiction.json?api-key=189d1e81816d4b3b89343d60d2e61cc1\")\n",
    "fd_09_data = fd_09_response.json()\n",
    "fd_09 = fd_09_data['results']['books']\n",
    "for i in fd_09:\n",
    "    print(i['title'])\n",
    "    \n",
    "print(\"\")\n",
    "# 10 father's day\n",
    "print(\"10 father's day\")\n",
    "fd_10_response = requests.get(\"https://api.nytimes.com/svc/books/v3/lists/2010-06-20/hardcover-fiction.json?api-key=189d1e81816d4b3b89343d60d2e61cc1\")\n",
    "fd_10_data = fd_10_response.json()\n",
    "fd_10 = fd_10_data['results']['books']\n",
    "for i in fd_10:\n",
    "    print(i['title'])"
   ]
  },
  {
   "cell_type": "markdown",
   "metadata": {
    "collapsed": true
   },
   "source": [
    "## 2) What are all the different book categories the NYT ranked in June 6, 2009? How about June 6, 2015?"
   ]
  },
  {
   "cell_type": "code",
   "execution_count": 14,
   "metadata": {
    "collapsed": false
   },
   "outputs": [
    {
     "name": "stdout",
     "output_type": "stream",
     "text": [
      "June 6, 2009:\n",
      "Culture\n",
      "E-Book Fiction\n",
      "Paperback Nonfiction\n",
      "Young Adult Paperback\n",
      "Combined Print and E-Book Nonfiction\n",
      "Education\n",
      "Humor\n",
      "Hardcover Graphic Books\n",
      "Expeditions Disasters and Adventures\n",
      "Animals\n",
      "Espionage\n",
      "Business Books\n",
      "Mass Market Paperback\n",
      "Travel\n",
      "Religion Spirituality and Faith\n",
      "Games and Activities\n",
      "Trade Fiction Paperback\n",
      "E-Book Nonfiction\n",
      "Family\n",
      "Sports\n",
      "Childrens Middle Grade Paperback\n",
      "Science\n",
      "Hardcover Fiction\n",
      "Hardcover Nonfiction\n",
      "Paperback Graphic Books\n",
      "Young Adult E-Book\n",
      "Food and Fitness\n",
      "Childrens Middle Grade Hardcover\n",
      "Childrens Middle Grade E-Book\n",
      "Health\n",
      "Young Adult Hardcover\n",
      "Combined Print and E-Book Fiction\n",
      "Crime and Punishment\n",
      "Relationships\n",
      "Advice How-To and Miscellaneous\n",
      "Race and Civil Rights\n",
      "Hardcover Political Books\n",
      "Manga\n",
      "Celebrities\n",
      "Fashion Manners and Customs\n",
      "Series Books\n",
      "Picture Books\n",
      "\n",
      "June 6, 2015:\n",
      "Culture\n",
      "E-Book Fiction\n",
      "Paperback Nonfiction\n",
      "Young Adult Paperback\n",
      "Combined Print and E-Book Nonfiction\n",
      "Education\n",
      "Humor\n",
      "Hardcover Graphic Books\n",
      "Expeditions Disasters and Adventures\n",
      "Animals\n",
      "Espionage\n",
      "Business Books\n",
      "Mass Market Paperback\n",
      "Travel\n",
      "Religion Spirituality and Faith\n",
      "Games and Activities\n",
      "Trade Fiction Paperback\n",
      "E-Book Nonfiction\n",
      "Family\n",
      "Sports\n",
      "Childrens Middle Grade Paperback\n",
      "Science\n",
      "Hardcover Fiction\n",
      "Hardcover Nonfiction\n",
      "Paperback Graphic Books\n",
      "Young Adult E-Book\n",
      "Food and Fitness\n",
      "Childrens Middle Grade Hardcover\n",
      "Childrens Middle Grade E-Book\n",
      "Health\n",
      "Young Adult Hardcover\n",
      "Combined Print and E-Book Fiction\n",
      "Crime and Punishment\n",
      "Relationships\n",
      "Advice How-To and Miscellaneous\n",
      "Race and Civil Rights\n",
      "Hardcover Political Books\n",
      "Manga\n",
      "Celebrities\n",
      "Fashion Manners and Customs\n",
      "Series Books\n",
      "Picture Books\n"
     ]
    }
   ],
   "source": [
    "# June 6, 2009\n",
    "print('June 6, 2009:')\n",
    "cat_09_response = requests.get(\"https://api.nytimes.com/svc/books/v3/lists/overview.json?published_data=2009-06-06&api-key=189d1e81816d4b3b89343d60d2e61cc1\")\n",
    "cat_09_data = cat_09_response.json()\n",
    "# cat_09_data['results']['lists'][0]['list_name']\n",
    "cat_09_list = cat_09_data['results']['lists']\n",
    "cat_09 = []\n",
    "for i in cat_09_list:\n",
    "    cat_09.append(i['list_name'])\n",
    "# print(cat_09)\n",
    "\n",
    "# To get the unique~\n",
    "# change list into set\n",
    "# unique_list = set(list_with_duplicates)\n",
    "unique_cat_09 = set(cat_09)\n",
    "for i in unique_cat_09:\n",
    "    print (i)\n",
    "    \n",
    "print(\"\")\n",
    "# June 6, 2015\n",
    "print('June 6, 2015:')\n",
    "cat_15_response = requests.get(\"https://api.nytimes.com/svc/books/v3/lists/overview.json?published_data=2015-06-06&api-key=189d1e81816d4b3b89343d60d2e61cc1\")\n",
    "cat_15_data = cat_15_response.json()\n",
    "# cat_15_data['results']['lists'][0]['list_name']\n",
    "cat_15_list = cat_15_data['results']['lists']\n",
    "cat_15 = []\n",
    "for i in cat_15_list:\n",
    "    cat_15.append(i['list_name'])\n",
    "# print(cat_15)\n",
    "\n",
    "# To get the unique~\n",
    "# change list into set\n",
    "# unique_list = set(list_with_duplicates)\n",
    "unique_cat_15 = set(cat_15)\n",
    "for i in unique_cat_15:\n",
    "    print (i)"
   ]
  },
  {
   "cell_type": "markdown",
   "metadata": {},
   "source": [
    "### There is a library that comes with Python called COLLECTIONS!!!\n",
    "### Inside of it is a magic thing challed Counter."
   ]
  },
  {
   "cell_type": "code",
   "execution_count": 15,
   "metadata": {
    "collapsed": false
   },
   "outputs": [
    {
     "name": "stdout",
     "output_type": "stream",
     "text": [
      "Counter({'Culture': 1, 'E-Book Fiction': 1, 'Paperback Nonfiction': 1, 'Combined Print and E-Book Nonfiction': 1, 'Education': 1, 'Young Adult Hardcover': 1, 'Combined Print and E-Book Fiction': 1, 'Hardcover Graphic Books': 1, 'Expeditions Disasters and Adventures': 1, 'Relationships': 1, 'Young Adult Paperback': 1, 'E-Book Nonfiction': 1, 'Animals': 1, 'Espionage': 1, 'Hardcover Nonfiction': 1, 'Mass Market Paperback': 1, 'Travel': 1, 'Religion Spirituality and Faith': 1, 'Games and Activities': 1, 'Humor': 1, 'Trade Fiction Paperback': 1, 'Crime and Punishment': 1, 'Advice How-To and Miscellaneous': 1, 'Business Books': 1, 'Family': 1, 'Sports': 1, 'Childrens Middle Grade Paperback': 1, 'Science': 1, 'Hardcover Fiction': 1, 'Race and Civil Rights': 1, 'Hardcover Political Books': 1, 'Paperback Graphic Books': 1, 'Manga': 1, 'Fashion Manners and Customs': 1, 'Young Adult E-Book': 1, 'Celebrities': 1, 'Food and Fitness': 1, 'Series Books': 1, 'Childrens Middle Grade Hardcover': 1, 'Childrens Middle Grade E-Book': 1, 'Health': 1, 'Picture Books': 1})\n"
     ]
    },
    {
     "data": {
      "text/plain": [
       "[('Culture', 1), ('E-Book Fiction', 1)]"
      ]
     },
     "execution_count": 15,
     "metadata": {},
     "output_type": "execute_result"
    }
   ],
   "source": [
    "import collections\n",
    "counts = collections.Counter(cat_09)\n",
    "print(counts)\n",
    "counts.most_common(2) # get the most common things in the list, just use .most_common(number of thing you want)"
   ]
  },
  {
   "cell_type": "markdown",
   "metadata": {},
   "source": [
    "### Just use + to combine two lists~"
   ]
  },
  {
   "cell_type": "code",
   "execution_count": 16,
   "metadata": {
    "collapsed": false
   },
   "outputs": [
    {
     "name": "stdout",
     "output_type": "stream",
     "text": [
      "[1, 2, 3, 4, 5, 6]\n"
     ]
    }
   ],
   "source": [
    "a = [1,2,3]+[4,5,6]\n",
    "print(a)"
   ]
  },
  {
   "cell_type": "markdown",
   "metadata": {},
   "source": [
    "## 3) Muammar Gaddafi's name can be transliterated many many ways. His last name is often a source of a million and one versions - Gadafi, Gaddafi, Kadafi, and Qaddafi to name a few. How many times has the New York Times referred to him by each of those names?"
   ]
  },
  {
   "cell_type": "code",
   "execution_count": 17,
   "metadata": {
    "collapsed": false
   },
   "outputs": [
    {
     "name": "stdout",
     "output_type": "stream",
     "text": [
      "The New York Times has reffered to Muammar Gaddafi by Gadafi for 0 times.\n",
      "The New York Times has reffered to Muammar Gaddafi by Gaddafi for 1069 times.\n",
      "The New York Times has reffered to Muammar Gaddafi by Kadafi for 3 times.\n",
      "The New York Times has reffered to Muammar Gaddafi by Qaddafi for 5309 times.\n"
     ]
    }
   ],
   "source": [
    "gadafi_response = requests.get(\"https://api.nytimes.com/svc/search/v2/articlesearch.json?q=gadafi&fq=libya&api-key=189d1e81816d4b3b89343d60d2e61cc1\")\n",
    "gadafi_data = gadafi_response.json()\n",
    "print(\"The New York Times has reffered to Muammar Gaddafi by Gadafi for\",gadafi_data['response']['meta']['hits'],\"times.\")\n",
    "\n",
    "gaddafi_response = requests.get(\"https://api.nytimes.com/svc/search/v2/articlesearch.json?q=gaddafi&fq=libya&api-key=189d1e81816d4b3b89343d60d2e61cc1\")\n",
    "gaddafi_data = gaddafi_response.json()\n",
    "print(\"The New York Times has reffered to Muammar Gaddafi by Gaddafi for\",gaddafi_data['response']['meta']['hits'],\"times.\")\n",
    "\n",
    "kadafi_response = requests.get(\"https://api.nytimes.com/svc/search/v2/articlesearch.json?q=kadafi&fq=libya&api-key=189d1e81816d4b3b89343d60d2e61cc1\")\n",
    "kadafi_data = kadafi_response.json()\n",
    "print(\"The New York Times has reffered to Muammar Gaddafi by Kadafi for\",kadafi_data['response']['meta']['hits'],\"times.\")\n",
    "\n",
    "qaddafi_response = requests.get(\"https://api.nytimes.com/svc/search/v2/articlesearch.json?q=qaddafi&fq=libya&api-key=189d1e81816d4b3b89343d60d2e61cc1\")\n",
    "qaddafi_data = qaddafi_response.json()\n",
    "print(\"The New York Times has reffered to Muammar Gaddafi by Qaddafi for\",qaddafi_data['response']['meta']['hits'],\"times.\")\n"
   ]
  },
  {
   "cell_type": "markdown",
   "metadata": {},
   "source": [
    "## 4) What's the title of the first story to mention the word 'hipster' in 1995? What's the first paragraph?"
   ]
  },
  {
   "cell_type": "code",
   "execution_count": 18,
   "metadata": {
    "collapsed": false
   },
   "outputs": [
    {
     "name": "stdout",
     "output_type": "stream",
     "text": [
      "The first story to mention the word \"hipster\" in 1995 is SURFACING SOUND it's first paragraph is: Portable record players with built-in speakers, from the 1960's, are the latest points on hipster score cards. In some cases, they are the only way to listen to many of the old LP or 45-r.p.m. recordings still around but not released on cassette or CD. Usually available in white plastic or metal, they can be found in flea markets and secondhand stores. One style has the arm cast in the shape of a cobra. (Don Hogan Charles/The New York Times).\n"
     ]
    }
   ],
   "source": [
    "hipster_response = requests.get('https://api.nytimes.com/svc/search/v2/articlesearch.json?api-key=189d1e81816d4b3b89343d60d2e61cc1&q=hipster&begin_date=19950101&end_date=19951231&sort=oldest')\n",
    "hipster_data = hipster_response.json()\n",
    "hipster = hipster_data['response']['docs']\n",
    "# print(hipster[0])\n",
    "print('The first story to mention the word \"hipster\" in 1995 is',hipster[0]['headline']['kicker'],hipster[0]['headline']['main'],\"it's first paragraph is:\",hipster[0]['lead_paragraph']+\".\")"
   ]
  },
  {
   "cell_type": "markdown",
   "metadata": {},
   "source": [
    "## 5) How many times was gay marriage mentioned in the NYT between 1950-1959, 1960-1969, 1970-1978, 1980-1989, 1990-2099, 2000-2009, and 2010-present?"
   ]
  },
  {
   "cell_type": "code",
   "execution_count": 19,
   "metadata": {
    "collapsed": false
   },
   "outputs": [
    {
     "name": "stdout",
     "output_type": "stream",
     "text": [
      "Gay marriage was mentioned in the NYT for 0 times betweeen 1950-1959.\n",
      "Gay marriage was mentioned in the NYT for 0 times betweeen 1960-1969.\n",
      "Gay marriage was mentioned in the NYT for 0 times betweeen 1970-1979.\n",
      "Gay marriage was mentioned in the NYT for 3 times betweeen 1980-1989.\n",
      "Gay marriage was mentioned in the NYT for 138 times betweeen 1990-1999.\n",
      "Gay marriage was mentioned in the NYT for 2513 times betweeen 2000-2009.\n",
      "Gay marriage was mentioned in the NYT for 4936 times betweeen 2010-present.\n"
     ]
    }
   ],
   "source": [
    "gay50s_response = requests.get('https://api.nytimes.com/svc/search/v2/articlesearch.json?api-key=189d1e81816d4b3b89343d60d2e61cc1&q=\"gay marriage\"&begin_date=19500101&end_date=19591231')\n",
    "gay50s_data = gay50s_response.json()\n",
    "print(\"Gay marriage was mentioned in the NYT for\",gay50s_data['response']['meta']['hits'],\"times betweeen 1950-1959.\")\n",
    "\n",
    "gay60s_response = requests.get('https://api.nytimes.com/svc/search/v2/articlesearch.json?api-key=189d1e81816d4b3b89343d60d2e61cc1&q=\"gay marriage\"&begin_date=19600101&end_date=19691231')\n",
    "gay60s_data = gay60s_response.json()\n",
    "print(\"Gay marriage was mentioned in the NYT for\",gay60s_data['response']['meta']['hits'],\"times betweeen 1960-1969.\")\n",
    "\n",
    "gay70s_response = requests.get('https://api.nytimes.com/svc/search/v2/articlesearch.json?api-key=189d1e81816d4b3b89343d60d2e61cc1&q=\"gay marriage\"&begin_date=19700101&end_date=19791231')\n",
    "gay70s_data = gay70s_response.json()\n",
    "print(\"Gay marriage was mentioned in the NYT for\",gay70s_data['response']['meta']['hits'],\"times betweeen 1970-1979.\")\n",
    "\n",
    "gay80s_response = requests.get('https://api.nytimes.com/svc/search/v2/articlesearch.json?api-key=189d1e81816d4b3b89343d60d2e61cc1&q=\"gay marriage\"&begin_date=19800101&end_date=19891231')\n",
    "gay80s_data = gay80s_response.json()\n",
    "print(\"Gay marriage was mentioned in the NYT for\",gay80s_data['response']['meta']['hits'],\"times betweeen 1980-1989.\")\n",
    "\n",
    "gay90s_response = requests.get('https://api.nytimes.com/svc/search/v2/articlesearch.json?api-key=189d1e81816d4b3b89343d60d2e61cc1&q=\"gay marriage\"&begin_date=19900101&end_date=19991231')\n",
    "gay90s_data = gay90s_response.json()\n",
    "print(\"Gay marriage was mentioned in the NYT for\",gay90s_data['response']['meta']['hits'],\"times betweeen 1990-1999.\")\n",
    "\n",
    "gay2000_response = requests.get('https://api.nytimes.com/svc/search/v2/articlesearch.json?api-key=189d1e81816d4b3b89343d60d2e61cc1&q=\"gay marriage\"&begin_date=20000101&end_date=20091231')\n",
    "gay2000_data = gay2000_response.json()\n",
    "print(\"Gay marriage was mentioned in the NYT for\",gay2000_data['response']['meta']['hits'],\"times betweeen 2000-2009.\")\n",
    "\n",
    "gay2010s_response = requests.get('https://api.nytimes.com/svc/search/v2/articlesearch.json?api-key=189d1e81816d4b3b89343d60d2e61cc1&q=\"gay marriage\"&begin_date=20100101')\n",
    "gay2010s_data = gay2010s_response.json()\n",
    "print(\"Gay marriage was mentioned in the NYT for\",gay2010s_data['response']['meta']['hits'],\"times betweeen 2010-present.\")"
   ]
  },
  {
   "cell_type": "markdown",
   "metadata": {},
   "source": [
    "## 6) What section talks about motorcycles the most?\n",
    "\n",
    "Tip: You'll be using facets"
   ]
  },
  {
   "cell_type": "code",
   "execution_count": 20,
   "metadata": {
    "collapsed": false
   },
   "outputs": [
    {
     "name": "stdout",
     "output_type": "stream",
     "text": [
      "World section talks about motorcycles the most.\n"
     ]
    }
   ],
   "source": [
    "motorcycles_response = requests.get('https://api.nytimes.com/svc/search/v2/articlesearch.json?api-key=189d1e81816d4b3b89343d60d2e61cc1&q=motorcycles&facet_field=section_name')\n",
    "motor_data = motorcycles_response.json()\n",
    "# motor = motor_data['response']['docs']\n",
    "# print(motor_data['response']['facets']['section_name']['terms'])\n",
    "section = motor_data['response']['facets']['section_name']['terms']\n",
    "max = 0\n",
    "for i in section:\n",
    "    if i['count'] > max:\n",
    "        max = i['count']\n",
    "for i in section:\n",
    "    if i['count'] == max:\n",
    "        print(i['term'],\"section talks about motorcycles the most.\")"
   ]
  },
  {
   "cell_type": "markdown",
   "metadata": {},
   "source": [
    "## 7) How many of the last 20 movies reviewed by the NYT were Critics' Picks? How about the last 40? The last 60?\n",
    "\n",
    "Tip: You really don't want to do this 3 separate times (1-20, 21-40 and 41-60) and add them together. What if, perhaps, you were able to figure out how to combine two lists? Then you could have a 1-20 list, a 1-40 list, and a 1-60 list, and then just run similar code for each of them."
   ]
  },
  {
   "cell_type": "code",
   "execution_count": 21,
   "metadata": {
    "collapsed": false
   },
   "outputs": [
    {
     "name": "stdout",
     "output_type": "stream",
     "text": [
      "In the last 20 movies reviewed by the NYT, 8 were Critics' Picks.\n",
      "In the last 40 movies reviewed by the NYT, 14 were Critics' Picks.\n",
      "In the last 60 movies reviewed by the NYT, 22 were Critics' Picks.\n"
     ]
    }
   ],
   "source": [
    "list = []\n",
    "count = 0\n",
    "        \n",
    "for i in range(3):\n",
    "    offset = i*20\n",
    "#     print (\"This is\",i+1,\"list, offset =\",offset)\n",
    "    url = 'https://api.nytimes.com/svc/movies/v2/reviews/search.json?api-key=189d1e81816d4b3b89343d60d2e61cc1&sort=newest&offset='+str(offset)\n",
    "#     print(\"url\",url)\n",
    "    response = requests.get(url)\n",
    "    data = response.json()\n",
    "    for m in data['results']:\n",
    "        list.append(m)\n",
    "        if m['critics_pick'] == 1:\n",
    "            count += 1\n",
    "    print(\"In the last\", (i+1)*20,\"movies reviewed by the NYT,\",count,\"were Critics' Picks.\")\n"
   ]
  },
  {
   "cell_type": "markdown",
   "metadata": {
    "collapsed": true
   },
   "source": [
    "## 8) Out of the last 40 movie reviews from the NYT, which critic has written the most reviews?"
   ]
  },
  {
   "cell_type": "code",
   "execution_count": 22,
   "metadata": {
    "collapsed": false
   },
   "outputs": [
    {
     "name": "stdout",
     "output_type": "stream",
     "text": [
      "Out of the last 40 movie reviews from the NYT, A. O. SCOTT has written the most reviews.\n"
     ]
    }
   ],
   "source": [
    "critic = []\n",
    "        \n",
    "for i in range(2):\n",
    "    offset = i*20\n",
    "#     print (\"This is\",i+1,\"list, offset =\",offset)\n",
    "    url = 'https://api.nytimes.com/svc/movies/v2/reviews/search.json?api-key=189d1e81816d4b3b89343d60d2e61cc1&sort=newest&offset='+str(offset)\n",
    "#     print(\"url\",url)\n",
    "    response = requests.get(url)\n",
    "    data = response.json()\n",
    "    for m in data['results']:\n",
    "#         print(m['byline'])\n",
    "        critic.append(m['byline'])\n",
    "import collections\n",
    "counts = collections.Counter(critic)\n",
    "print(\"Out of the last 40 movie reviews from the NYT,\",counts.most_common(1)[0][0],\"has written the most reviews.\")\n"
   ]
  },
  {
   "cell_type": "code",
   "execution_count": null,
   "metadata": {
    "collapsed": true
   },
   "outputs": [],
   "source": []
  }
 ],
 "metadata": {
  "kernelspec": {
   "display_name": "Python 3",
   "language": "python",
   "name": "python3"
  },
  "language_info": {
   "codemirror_mode": {
    "name": "ipython",
    "version": 3
   },
   "file_extension": ".py",
   "mimetype": "text/x-python",
   "name": "python",
   "nbconvert_exporter": "python",
   "pygments_lexer": "ipython3",
   "version": "3.5.1"
  }
 },
 "nbformat": 4,
 "nbformat_minor": 0
}

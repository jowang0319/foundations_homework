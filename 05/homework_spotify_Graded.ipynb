{
 "cells": [
  {
   "cell_type": "markdown",
   "metadata": {},
   "source": [
    "# Homework 5 _ spotify\n",
    "Zhizhou Wang\n",
    "2016-06-06"
   ]
  },
  {
   "cell_type": "markdown",
   "metadata": {},
   "source": [
    "1) With \"Lil Wayne\" and \"Lil Kim\" there are a lot of \"Lil\" musicians. Do a search and print a list of 50 that are playable in the USA (or the country of your choice), along with their popularity score."
   ]
  },
  {
   "cell_type": "markdown",
   "metadata": {},
   "source": [
    "Graded = 8/8"
   ]
  },
  {
   "cell_type": "code",
   "execution_count": 1,
   "metadata": {
    "collapsed": false
   },
   "outputs": [
    {
     "name": "stdout",
     "output_type": "stream",
     "text": [
      "Lil Wayne 86\n",
      "Lil Yachty 74\n",
      "Lil Uzi Vert 74\n",
      "Lil Dicky 69\n",
      "Boosie Badazz 67\n",
      "Lil Jon 72\n",
      "King Lil G 61\n",
      "Lil Durk 60\n",
      "Lil Jon & The East Side Boyz 60\n",
      "Lil Bibby 54\n",
      "G Herbo 53\n",
      "Lil Rob 50\n",
      "Lil Reese 50\n",
      "Lil Scrappy 50\n",
      "Bow Wow 57\n",
      "Lil Keke 48\n",
      "Lil Wyte 50\n",
      "Lil Blood 46\n",
      "Lil Snupe 45\n",
      "Lil Mama 45\n",
      "Lil Boom 46\n",
      "Lil B 44\n",
      "Lil' Kim 62\n",
      "Lil Cuete 40\n",
      "Lil Phat 40\n",
      "Lil Debbie 43\n",
      "Lil Twist 40\n",
      "Lil Trill 37\n",
      "Lil Goofy 36\n",
      "Lil Lonnie 37\n",
      "Lil AJ 37\n",
      "Lil Haiti 38\n",
      "Lil Cray 36\n",
      "Lil Twon 36\n",
      "Mr. Lil One 36\n",
      "Lil Mouse 35\n",
      "Lil Silva 43\n",
      "Lil Yase 34\n",
      "Lil Flash 38\n",
      "Lil Suzy 34\n",
      "Lil Eddie 41\n",
      "Lil Rue 34\n",
      "Lil Kesh 39\n",
      "Lil Wayne, DJ Drama 35\n",
      "Lil C 33\n",
      "Lil Rick 39\n",
      "Lil E 35\n",
      "Lil June 32\n",
      "Lil Fate 34\n",
      "Lil' Flip 50\n"
     ]
    }
   ],
   "source": [
    "import requests\n",
    "lil_response = requests.get('https://api.spotify.com/v1/search?query=lil&type=artist&market=us&limit=50')\n",
    "lil_data = lil_response.json()\n",
    "for i in lil_data['artists']['items']:\n",
    "    print (i['name'],i['popularity'])"
   ]
  },
  {
   "cell_type": "markdown",
   "metadata": {
    "collapsed": true
   },
   "source": [
    "2) What genres are most represented in the search results? Edit your previous printout to also display a list of their genres in the format \"GENRE_1, GENRE_2, GENRE_3\". If there are no genres, print \"No genres listed\"."
   ]
  },
  {
   "cell_type": "code",
   "execution_count": 2,
   "metadata": {
    "collapsed": false
   },
   "outputs": [
    {
     "name": "stdout",
     "output_type": "stream",
     "text": [
      "Lil Wayne 86 GENRE_ dirty south rap,Genre_pop rap,Genre_southern hip hop,Genre_trap music\n",
      "Lil Yachty 74 No genres listed\n",
      "Lil Uzi Vert 74 No genres listed\n",
      "Lil Dicky 69 No genres listed\n",
      "Boosie Badazz 67 No genres listed\n",
      "Lil Jon 72 GENRE_ crunk,Genre_dirty south rap,Genre_southern hip hop\n",
      "King Lil G 61 No genres listed\n",
      "Lil Durk 60 No genres listed\n",
      "Lil Jon & The East Side Boyz 60 No genres listed\n",
      "Lil Bibby 54 No genres listed\n",
      "G Herbo 53 No genres listed\n",
      "Lil Rob 50 GENRE_ chicano rap,Genre_latin hip hop\n",
      "Lil Reese 50 No genres listed\n",
      "Lil Scrappy 50 GENRE_ crunk,Genre_dirty south rap,Genre_southern hip hop,Genre_trap music\n",
      "Bow Wow 57 GENRE_ hip pop,Genre_pop rap\n",
      "Lil Keke 48 No genres listed\n",
      "Lil Wyte 50 GENRE_ juggalo\n",
      "Lil Blood 46 No genres listed\n",
      "Lil Snupe 45 No genres listed\n",
      "Lil Mama 45 GENRE_ hip pop\n",
      "Lil Boom 46 No genres listed\n",
      "Lil B 44 No genres listed\n",
      "Lil' Kim 62 GENRE_ hip pop\n",
      "Lil Cuete 40 GENRE_ chicano rap\n",
      "Lil Phat 40 No genres listed\n",
      "Lil Debbie 43 No genres listed\n",
      "Lil Twist 40 GENRE_ jerk\n",
      "Lil Trill 37 GENRE_ deep trap\n",
      "Lil Goofy 36 No genres listed\n",
      "Lil Lonnie 37 No genres listed\n",
      "Lil AJ 37 No genres listed\n",
      "Lil Haiti 38 No genres listed\n",
      "Lil Cray 36 No genres listed\n",
      "Lil Twon 36 No genres listed\n",
      "Mr. Lil One 36 GENRE_ chicano rap\n",
      "Lil Mouse 35 No genres listed\n",
      "Lil Silva 43 No genres listed\n",
      "Lil Yase 34 No genres listed\n",
      "Lil Flash 38 No genres listed\n",
      "Lil Suzy 34 GENRE_ freestyle\n",
      "Lil Eddie 41 No genres listed\n",
      "Lil Rue 34 No genres listed\n",
      "Lil Kesh 39 No genres listed\n",
      "Lil Wayne, DJ Drama 35 No genres listed\n",
      "Lil C 33 No genres listed\n",
      "Lil Rick 39 GENRE_ soca\n",
      "Lil E 35 No genres listed\n",
      "Lil June 32 No genres listed\n",
      "Lil Fate 34 No genres listed\n",
      "Lil' Flip 50 GENRE_ crunk,Genre_dirty south rap\n"
     ]
    }
   ],
   "source": [
    "for i in lil_data['artists']['items']:\n",
    "    if not i['genres']:\n",
    "        print(i['name'],i['popularity'],\"No genres listed\")\n",
    "    else:\n",
    "        print (i['name'],i['popularity'],\"GENRE_\",\",Genre_\".join(i['genres']))"
   ]
  },
  {
   "cell_type": "markdown",
   "metadata": {},
   "source": [
    "3) Use a for loop to determine who BESIDES Lil Wayne has the highest popularity rating. Is it the same artist who has the largest number of followers?"
   ]
  },
  {
   "cell_type": "code",
   "execution_count": 3,
   "metadata": {
    "collapsed": false
   },
   "outputs": [
    {
     "name": "stdout",
     "output_type": "stream",
     "text": [
      "Lil Yachty has the highest popularity rating besides Lil Wayne.\n",
      "Lil Uzi Vert has the highest popularity rating besides Lil Wayne.\n",
      "Lil Jon has the largest number of followers besides Lil Wayne.\n"
     ]
    }
   ],
   "source": [
    "pop = 0\n",
    "follower = 0\n",
    "for i in lil_data['artists']['items']:\n",
    "    if i['name'] != \"Lil Wayne\":\n",
    "        if i['popularity'] > pop:\n",
    "            pop = i['popularity']\n",
    "for i in lil_data['artists']['items']:\n",
    "    if i['name'] != \"Lil Wayne\":\n",
    "        if i['popularity'] == pop:\n",
    "            print(i['name'],\"has the highest popularity rating besides Lil Wayne.\")\n",
    "for i in lil_data['artists']['items']:\n",
    "    if i['name'] != \"Lil Wayne\":\n",
    "#         print (i['followers'])\n",
    "        if i['followers']['total'] > follower:\n",
    "            follower = i['followers']['total']\n",
    "for i in lil_data['artists']['items']:\n",
    "    if i['name'] != \"Lil Wayne\":\n",
    "        if i['followers']['total'] == follower:\n",
    "            print(i['name'],\"has the largest number of followers besides Lil Wayne.\")"
   ]
  },
  {
   "cell_type": "markdown",
   "metadata": {},
   "source": [
    "### Shall we take \"Lil Wayne\" into concern in the follower part?"
   ]
  },
  {
   "cell_type": "markdown",
   "metadata": {},
   "source": [
    "4) Print a list of Lil's that are more popular than Lil' Kim."
   ]
  },
  {
   "cell_type": "code",
   "execution_count": 4,
   "metadata": {
    "collapsed": false
   },
   "outputs": [
    {
     "name": "stdout",
     "output_type": "stream",
     "text": [
      "Lil Wayne\n",
      "Lil Yachty\n",
      "Lil Uzi Vert\n",
      "Lil Dicky\n",
      "Boosie Badazz\n",
      "Lil Jon\n"
     ]
    }
   ],
   "source": [
    "for i in lil_data['artists']['items']:\n",
    "    if i['name'] == \"Lil' Kim\":\n",
    "        pop_kim = i['popularity']\n",
    "#         print (pop_kim)\n",
    "for i in lil_data['artists']['items']:\n",
    "    if i['popularity'] > pop_kim:\n",
    "        print(i['name'])"
   ]
  },
  {
   "cell_type": "markdown",
   "metadata": {},
   "source": [
    "5) Pick two of your favorite Lils to fight it out, and use their IDs to print out their top tracks."
   ]
  },
  {
   "cell_type": "code",
   "execution_count": 5,
   "metadata": {
    "collapsed": false
   },
   "outputs": [
    {
     "name": "stdout",
     "output_type": "stream",
     "text": [
      "Lil Yachty's top tracks:\n",
      "One Night (Extended)\n",
      "Minnesota (Remix) [feat. Quavo, Skippa da Flippa & Young Thug]\n",
      "Wanna Be Us (feat. Burberry Perry)\n",
      "Intro (Just Keep Swimming)\n",
      "Up Next 2 (feat. Big Brutha Chubba & Byou)\n",
      "Good Day (feat. Skippa da Flippa)\n",
      "Not My Bro\n",
      "Fucked Over\n",
      "Out Late\n",
      "Interlude\n",
      "\n",
      "Lil Twist's top tracks:\n",
      "One Night (Extended)\n",
      "Minnesota (Remix) [feat. Quavo, Skippa da Flippa & Young Thug]\n",
      "Wanna Be Us (feat. Burberry Perry)\n",
      "Intro (Just Keep Swimming)\n",
      "Up Next 2 (feat. Big Brutha Chubba & Byou)\n",
      "Good Day (feat. Skippa da Flippa)\n",
      "Not My Bro\n",
      "Fucked Over\n",
      "Out Late\n",
      "Interlude\n"
     ]
    }
   ],
   "source": [
    "# for i in lil_data['artists']['items']:\n",
    "#     print (i['name'],i['id'])\n",
    "# Lil Yachty 6icQOAFXDZKsumw3YXyusw\n",
    "# Lil Twist 564gvOqSRcQoYAhaBpTiK2\n",
    "\n",
    "# Lil Yachty\n",
    "print(\"Lil Yachty's top tracks:\")\n",
    "yachty_response = requests.get(\"https://api.spotify.com/v1/artists/6icQOAFXDZKsumw3YXyusw/top-tracks?country=us\")\n",
    "yachty_data = yachty_response.json()\n",
    "yachty = yachty_data['tracks']\n",
    "for i in yachty:\n",
    "#     print(i.keys())\n",
    "    print(i['name'])\n",
    "    \n",
    "# Lil Twist\n",
    "print(\"\")\n",
    "print(\"Lil Twist's top tracks:\")\n",
    "twist_response = requests.get(\"https://api.spotify.com/v1/artists/564gvOqSRcQoYAhaBpTiK2/top-tracks?country=us\")\n",
    "twist_data = twist_response.json()\n",
    "twist = twist_data['tracks']\n",
    "for i in yachty:\n",
    "#     print(i.keys())\n",
    "    print(i['name'])\n"
   ]
  },
  {
   "cell_type": "markdown",
   "metadata": {
    "collapsed": false
   },
   "source": [
    "6) Will the world explode if a musicians swears? Get an average popularity for their explicit songs vs. their non-explicit songs. How many minutes of explicit songs do they have? Non-explicit?"
   ]
  },
  {
   "cell_type": "code",
   "execution_count": 6,
   "metadata": {
    "collapsed": false
   },
   "outputs": [
    {
     "name": "stdout",
     "output_type": "stream",
     "text": [
      "The average popularity for Yachty's explicit song is 60.4 ,and the average popularity of non-explicit songs is 0\n",
      "Yachty has 1869601 minutes of explicit songs and 0 minutes of non-explicit songs.\n",
      "\n",
      "The average popularity for Twist's explicit song is 18.666666666666668 ,and the average popularity of non-explicit songs is 26.5\n",
      "Twist has 1302598 minutes of explicit songs and 512853 minutes of non-explicit songs.\n"
     ]
    }
   ],
   "source": [
    "# Lil Yachty\n",
    "# for i in yachty:\n",
    "#     print(i.keys())\n",
    "\n",
    "sum_exp = 0\n",
    "count_exp = 0\n",
    "min_exp = 0\n",
    "min_no_exp = 0\n",
    "sum_no_exp = 0\n",
    "count_no_exp = 0\n",
    "for i in yachty:\n",
    "    if i['explicit']:\n",
    "        sum_exp += i['popularity']\n",
    "        count_exp += 1\n",
    "        min_exp += i['duration_ms']\n",
    "    if not i['explicit']:\n",
    "        sum_no_exp += i['popularity']\n",
    "        count_no_exp += 1\n",
    "        min_no_exp += i['duration_ms']\n",
    "if count_exp != 0:\n",
    "    avg_exp = sum_exp/count_exp\n",
    "else:\n",
    "    avg_exp = 0\n",
    "if count_no_exp != 0:\n",
    "    avg_no_exp = sum_no_exp/count_no_exp\n",
    "else:\n",
    "    avg_no_exp = 0\n",
    "print(\"The average popularity for Yachty's explicit song is\", avg_exp,\",and the average popularity of non-explicit songs is\",avg_no_exp)\n",
    "print(\"Yachty has\",min_exp,\"minutes of explicit songs and\",min_no_exp,\"minutes of non-explicit songs.\")\n",
    "\n",
    "print(\"\")\n",
    "# Lil Twist\n",
    "# for i in twist:\n",
    "#     print(i.keys())\n",
    "\n",
    "twist_sum_exp = 0\n",
    "twist_count_exp = 0\n",
    "twist_min_exp = 0\n",
    "twist_min_no_exp = 0\n",
    "twist_sum_no_exp = 0\n",
    "twist_count_no_exp = 0\n",
    "for i in twist:\n",
    "    if i['explicit']:\n",
    "        twist_sum_exp += i['popularity']\n",
    "        twist_count_exp += 1\n",
    "        twist_min_exp += i['duration_ms']\n",
    "    if not i['explicit']:\n",
    "        twist_sum_no_exp += i['popularity']\n",
    "        twist_count_no_exp += 1\n",
    "        twist_min_no_exp += i['duration_ms']\n",
    "if twist_count_exp != 0:\n",
    "    twist_avg_exp = twist_sum_exp/twist_count_exp\n",
    "else:\n",
    "    twist_avg_exp = 0\n",
    "if twist_count_no_exp != 0:\n",
    "    twist_avg_no_exp = twist_sum_no_exp/twist_count_no_exp\n",
    "else:\n",
    "    twist_avg_no_exp = 0\n",
    "print(\"The average popularity for Twist's explicit song is\", twist_avg_exp,\",and the average popularity of non-explicit songs is\",twist_avg_no_exp)\n",
    "print(\"Twist has\",twist_min_exp,\"minutes of explicit songs and\",twist_min_no_exp,\"minutes of non-explicit songs.\")\n"
   ]
  },
  {
   "cell_type": "markdown",
   "metadata": {},
   "source": [
    "7) Since we're talking about Lils, what about Biggies? How many total \"Biggie\" artists are there? How many total \"Lil\"s? If you made 1 request every 5 seconds, how long would it take to download information on all the Lils vs the Biggies?"
   ]
  },
  {
   "cell_type": "code",
   "execution_count": 7,
   "metadata": {
    "collapsed": false
   },
   "outputs": [
    {
     "name": "stdout",
     "output_type": "stream",
     "text": [
      "There are 50 \"Biggie\" artists.\n",
      "There are 4526 \"Lil\" artists.\n",
      "If I made 1 request every 5 seconds, it would take 22630 seconds to download information on all the Lils, and 250 seconds for Biggies.\n"
     ]
    }
   ],
   "source": [
    "biggie_response = requests.get('https://api.spotify.com/v1/search?query=biggie&type=artist&market=us&limit=50')\n",
    "biggie_data = biggie_response.json()\n",
    "print(\"There are\",biggie_data['artists']['total'],'\"Biggie\" artists.')\n",
    "print(\"There are\",lil_data['artists']['total'],'\"Lil\" artists.')\n",
    "print(\"If I made 1 request every 5 seconds, it would take\",lil_data['artists']['total']*5,\"seconds to download information on all the Lils, and\",biggie_data['artists']['total']*5,\"seconds for Biggies.\")"
   ]
  },
  {
   "cell_type": "markdown",
   "metadata": {},
   "source": [
    "8) Out of the top 50 \"Lil\"s and the top 50 \"Biggie\"s, who is more popular on average?\n",
    "###### There are only 49 Biggies!"
   ]
  },
  {
   "cell_type": "code",
   "execution_count": 8,
   "metadata": {
    "collapsed": false
   },
   "outputs": [
    {
     "name": "stdout",
     "output_type": "stream",
     "text": [
      "Out of the top 50 \"Lil\"s and the top 50 \"Biggie\"s, \"Lil\"s is more popular on average.\n"
     ]
    }
   ],
   "source": [
    "lil_pop = 0\n",
    "lil_count = 0\n",
    "for i in lil_data['artists']['items']:\n",
    "    \n",
    "    lil_pop += i['popularity']\n",
    "    lil_count += 1\n",
    "lil_avg = lil_pop/lil_count\n",
    "# print(lil_avg)\n",
    "biggie_pop = 0\n",
    "biggie_count = 0\n",
    "for i in biggie_data['artists']['items']:\n",
    "    biggie_pop += i['popularity']\n",
    "    biggie_count += 1\n",
    "biggie_avg = biggie_pop/biggie_count\n",
    "# print(biggie_avg)\n",
    "\n",
    "if biggie_avg > lil_avg:\n",
    "    print('Out of the top 50 \"Lil\"s and the top 50 \"Biggie\"s, \"Biggie\"s is more popular on average.')\n",
    "else:\n",
    "    print('Out of the top 50 \"Lil\"s and the top 50 \"Biggie\"s, \"Lil\"s is more popular on average.')"
   ]
  },
  {
   "cell_type": "code",
   "execution_count": null,
   "metadata": {
    "collapsed": true
   },
   "outputs": [],
   "source": []
  },
  {
   "cell_type": "code",
   "execution_count": null,
   "metadata": {
    "collapsed": false
   },
   "outputs": [],
   "source": []
  },
  {
   "cell_type": "code",
   "execution_count": null,
   "metadata": {
    "collapsed": true
   },
   "outputs": [],
   "source": []
  }
 ],
 "metadata": {
  "kernelspec": {
   "display_name": "Python 3",
   "language": "python",
   "name": "python3"
  },
  "language_info": {
   "codemirror_mode": {
    "name": "ipython",
    "version": 3
   },
   "file_extension": ".py",
   "mimetype": "text/x-python",
   "name": "python",
   "nbconvert_exporter": "python",
   "pygments_lexer": "ipython3",
   "version": "3.5.1"
  }
 },
 "nbformat": 4,
 "nbformat_minor": 0
}

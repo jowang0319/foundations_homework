{
 "cells": [
  {
   "cell_type": "markdown",
   "metadata": {},
   "source": [
    "Graded = 7/7"
   ]
  },
  {
   "cell_type": "markdown",
   "metadata": {},
   "source": [
    "# homework #6\n"
   ]
  },
  {
   "cell_type": "markdown",
   "metadata": {},
   "source": [
    "### 1) Make a request from the Forecast.io API for where you were born (or lived, or want to visit!).\n",
    "\n",
    "Tip: Once you've imported the JSON into a variable, check the timezone's name to make sure it seems like it got the right part of the world!\n",
    "\n",
    "Tip 2: How is north vs. south and east vs. west latitude/longitude represented? Is it the normal North/South/East/West?"
   ]
  },
  {
   "cell_type": "markdown",
   "metadata": {},
   "source": [
    "### API KEY:b62f84f2889afe6581117b6bb26e8a5d"
   ]
  },
  {
   "cell_type": "code",
   "execution_count": 1,
   "metadata": {
    "collapsed": false
   },
   "outputs": [
    {
     "name": "stdout",
     "output_type": "stream",
     "text": [
      "Asia/Shanghai\n"
     ]
    }
   ],
   "source": [
    "import requests\n",
    "sha_response = requests.get(\"https://api.forecast.io/forecast/b62f84f2889afe6581117b6bb26e8a5d/31.2304,121.4737\")\n",
    "sha_data = sha_response.json()\n",
    "print(sha_data['timezone'])"
   ]
  },
  {
   "cell_type": "markdown",
   "metadata": {},
   "source": [
    "### 2) What's the current wind speed? How much warmer does it feel than it actually is?"
   ]
  },
  {
   "cell_type": "code",
   "execution_count": 2,
   "metadata": {
    "collapsed": false
   },
   "outputs": [
    {
     "name": "stdout",
     "output_type": "stream",
     "text": [
      "dict_keys(['icon', 'apparentTemperature', 'humidity', 'ozone', 'precipProbability', 'visibility', 'temperature', 'pressure', 'cloudCover', 'precipType', 'summary', 'time', 'windBearing', 'precipIntensity', 'windSpeed', 'dewPoint'])\n",
      "Current wind speed is 5.86\n",
      "It feels 0.0 warmer than it actually is.\n"
     ]
    }
   ],
   "source": [
    "# print(sha_data.keys())\n",
    "print(sha_data['currently'].keys())\n",
    "print(\"Current wind speed is\",sha_data['currently']['windSpeed'])\n",
    "cal_temp = sha_data['currently']['apparentTemperature']-sha_data['currently']['temperature']\n",
    "print(\"It feels\",cal_temp,\"warmer than it actually is.\")"
   ]
  },
  {
   "cell_type": "markdown",
   "metadata": {},
   "source": [
    "### 3) The first daily forecast is the forecast for today. For the place you decided on up above, how much of the moon is currently visible?"
   ]
  },
  {
   "cell_type": "code",
   "execution_count": 4,
   "metadata": {
    "collapsed": false
   },
   "outputs": [
    {
     "name": "stdout",
     "output_type": "stream",
     "text": [
      "moon phase: 0.45 cloud cover: 0.71\n",
      "It's a new moon! But it's cloudy today so we can barely see it.\n"
     ]
    }
   ],
   "source": [
    "#TA-Stephan: Be careful about printing - by time I printed this it was no longer a full moon.\n",
    "sha_daily = sha_data['daily']['data']\n",
    "today = sha_daily[0]\n",
    "print(\"moon phase:\",today['moonPhase'],'cloud cover:',today['cloudCover'])\n",
    "print(\"It's a new moon! But it's cloudy today so we can barely see it.\")"
   ]
  },
  {
   "cell_type": "markdown",
   "metadata": {},
   "source": [
    "### 4) What's the difference between the high and low temperatures for today?"
   ]
  },
  {
   "cell_type": "code",
   "execution_count": 5,
   "metadata": {
    "collapsed": false
   },
   "outputs": [
    {
     "name": "stdout",
     "output_type": "stream",
     "text": [
      "The different between the high and low temperatures for today is 14.90\n"
     ]
    }
   ],
   "source": [
    "# print(today.keys())\n",
    "dif_temp = format(today['temperatureMax']-today['temperatureMin'],'.2f')\n",
    "print(\"The different between the high and low temperatures for today is\",dif_temp)"
   ]
  },
  {
   "cell_type": "markdown",
   "metadata": {},
   "source": [
    "### 5) Loop through the daily forecast, printing out the next week's worth of predictions. I'd like to know the high temperature for each day, and whether it's hot, warm, or cold, based on what temperatures you think are hot, warm or cold."
   ]
  },
  {
   "cell_type": "code",
   "execution_count": 6,
   "metadata": {
    "collapsed": false
   },
   "outputs": [
    {
     "name": "stdout",
     "output_type": "stream",
     "text": [
      "Next week's prediction:\n",
      "1 day: 79.95\n",
      "It's warm.\n",
      "2 day: 95.05\n",
      "It's hot.\n",
      "3 day: 94.09\n",
      "It's hot.\n",
      "4 day: 89.88\n",
      "It's hot.\n",
      "5 day: 88.96\n",
      "It's hot.\n",
      "6 day: 86.39\n",
      "It's hot.\n",
      "7 day: 93.16\n",
      "It's hot.\n"
     ]
    }
   ],
   "source": [
    "# print(today.keys())\n",
    "print(\"Next week's prediction:\")\n",
    "for i in range(7):\n",
    "    print(i+1,\"day:\",sha_daily[i+1]['temperatureMax'])\n",
    "    if sha_daily[i+1]['temperatureMax']>81:\n",
    "        print(\"It's hot.\")\n",
    "    elif 70 < sha_daily[i+1]['temperatureMax'] <=81:\n",
    "        print(\"It's warm.\")\n",
    "    elif 59 < sha_daily[i+1]['temperatureMax'] <= 70:\n",
    "        print(\"It's cold\")\n"
   ]
  },
  {
   "cell_type": "markdown",
   "metadata": {},
   "source": [
    "### 6) What's the weather looking like for the rest of today in Miami, Florida? I'd like to know the temperature for every hour, and if it's going to have cloud cover of more than 0.5 say \"{temperature} and cloudy\" instead of just the temperature."
   ]
  },
  {
   "cell_type": "code",
   "execution_count": 7,
   "metadata": {
    "collapsed": false
   },
   "outputs": [
    {
     "name": "stdout",
     "output_type": "stream",
     "text": [
      "America/New_York\n",
      "\n",
      "temperature: 87.34 cloudy\n",
      "\n",
      "temperature: 86.71 cloudy\n",
      "\n",
      "temperature: 85.43 cloudy\n",
      "\n",
      "temperature: 83.88 cloudy\n",
      "\n",
      "temperature: 83.03 cloudy\n",
      "\n",
      "temperature: 82.01\n",
      "\n",
      "temperature: 81.33\n",
      "\n",
      "temperature: 80.97 cloudy\n",
      "\n",
      "temperature: 80.25 cloudy\n",
      "\n",
      "temperature: 79.65 cloudy\n",
      "\n",
      "temperature: 78.63\n",
      "\n",
      "temperature: 78.09\n",
      "\n",
      "temperature: 77.72 cloudy\n",
      "\n",
      "temperature: 78.64 cloudy\n",
      "\n",
      "temperature: 80.34 cloudy\n",
      "\n",
      "temperature: 82.54 cloudy\n",
      "\n",
      "temperature: 84.09 cloudy\n",
      "\n",
      "temperature: 85.44 cloudy\n",
      "\n",
      "temperature: 86.7 cloudy\n",
      "\n",
      "temperature: 87.9 cloudy\n",
      "\n",
      "temperature: 89.01 cloudy\n",
      "\n",
      "temperature: 88.02 cloudy\n",
      "\n",
      "temperature: 86.68 cloudy\n",
      "\n",
      "temperature: 85.16 cloudy\n"
     ]
    }
   ],
   "source": [
    "mia_response = requests.get(\"https://api.forecast.io/forecast/b62f84f2889afe6581117b6bb26e8a5d/25.7617,-80.1918\")\n",
    "mia_data = mia_response.json()\n",
    "print(mia_data['timezone'])\n",
    "# print(mia_data['hourly']['data'])\n",
    "mia_hour = mia_data['hourly']['data']\n",
    "for i in range(24):\n",
    "    print()\n",
    "    if mia_hour[i+1]['cloudCover'] > 0.5:\n",
    "        print(\"temperature:\",mia_hour[i+1]['temperature'],\"cloudy\")\n",
    "    else:\n",
    "        print(\"temperature:\",mia_hour[i+1]['temperature'])\n",
    "\n"
   ]
  },
  {
   "cell_type": "markdown",
   "metadata": {},
   "source": [
    "### 7) What was the temperature in Central Park on Christmas Day, 1980? How about 1990? 2000?\n",
    "\n",
    "Tip: You'll need to use UNIX time, which is the number of seconds since January 1, 1970. Google can help you convert a normal date!\n",
    "\n",
    "Tip: You'll want to use Forecast.io's \"time machine\" API at https://developer.forecast.io/docs/v2"
   ]
  },
  {
   "cell_type": "code",
   "execution_count": 8,
   "metadata": {
    "collapsed": false
   },
   "outputs": [
    {
     "name": "stdout",
     "output_type": "stream",
     "text": [
      "The high temperature in Central Park on Christmas Day, 1980 was 36.95 and the low temperature was 28.51\n",
      "The high temperature in Central Park on Christmas Day, 1990 was 59.87 and the low temperature was 31.16\n",
      "The high temperature in Central Park on Christmas Day, 2000 was 31.24 and the low temperature was 20.52\n"
     ]
    }
   ],
   "source": [
    "cp80_response = requests.get(\"https://api.forecast.io/forecast/b62f84f2889afe6581117b6bb26e8a5d/40.7829,-73.9654,346550400\")\n",
    "cp80_data = cp80_response.json()\n",
    "# cp80_data.keys()\n",
    "print(\"The high temperature in Central Park on Christmas Day, 1980 was\",cp80_data['daily']['data'][0]['temperatureMax'],\"and the low temperature was\",cp80_data['daily']['data'][0]['temperatureMin'])\n",
    "\n",
    "cp90_response = requests.get(\"https://api.forecast.io/forecast/b62f84f2889afe6581117b6bb26e8a5d/40.7829,-73.9654,662083200\")\n",
    "cp90_data = cp90_response.json()\n",
    "print(\"The high temperature in Central Park on Christmas Day, 1990 was\",cp90_data['daily']['data'][0]['temperatureMax'],\"and the low temperature was\",cp90_data['daily']['data'][0]['temperatureMin'])\n",
    "\n",
    "cp20_response = requests.get(\"https://api.forecast.io/forecast/b62f84f2889afe6581117b6bb26e8a5d/40.7829,-73.9654,977702400\")\n",
    "cp20_data = cp20_response.json()\n",
    "print(\"The high temperature in Central Park on Christmas Day, 2000 was\",cp20_data['daily']['data'][0]['temperatureMax'],\"and the low temperature was\",cp20_data['daily']['data'][0]['temperatureMin'])\n"
   ]
  },
  {
   "cell_type": "code",
   "execution_count": null,
   "metadata": {
    "collapsed": false
   },
   "outputs": [],
   "source": []
  },
  {
   "cell_type": "code",
   "execution_count": null,
   "metadata": {
    "collapsed": true
   },
   "outputs": [],
   "source": []
  }
 ],
 "metadata": {
  "kernelspec": {
   "display_name": "Python 3",
   "language": "python",
   "name": "python3"
  },
  "language_info": {
   "codemirror_mode": {
    "name": "ipython",
    "version": 3
   },
   "file_extension": ".py",
   "mimetype": "text/x-python",
   "name": "python",
   "nbconvert_exporter": "python",
   "pygments_lexer": "ipython3",
   "version": "3.5.1"
  }
 },
 "nbformat": 4,
 "nbformat_minor": 0
}

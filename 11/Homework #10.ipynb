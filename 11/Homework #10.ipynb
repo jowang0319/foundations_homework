{
 "cells": [
  {
   "cell_type": "markdown",
   "metadata": {},
   "source": [
    "# Homework #10\n",
    "### Zhizhou Wang\n",
    "### Jun 27, 2016"
   ]
  },
  {
   "cell_type": "code",
   "execution_count": 1,
   "metadata": {
    "collapsed": false
   },
   "outputs": [
    {
     "name": "stderr",
     "output_type": "stream",
     "text": [
      "/Users/zhizhou/.virtualenvs/data-analysis/lib/python3.5/site-packages/matplotlib/__init__.py:1035: UserWarning: Duplicate key in file \"/Users/zhizhou/.matplotlib/matplotlibrc\", line #2\n",
      "  (fname, cnt))\n",
      "/Users/zhizhou/.virtualenvs/data-analysis/lib/python3.5/site-packages/matplotlib/__init__.py:1035: UserWarning: Duplicate key in file \"/Users/zhizhou/.matplotlib/matplotlibrc\", line #3\n",
      "  (fname, cnt))\n"
     ]
    }
   ],
   "source": [
    "import pandas as pd"
   ]
  },
  {
   "cell_type": "code",
   "execution_count": 2,
   "metadata": {
    "collapsed": false
   },
   "outputs": [
    {
     "data": {
      "text/html": [
       "<div>\n",
       "<table border=\"1\" class=\"dataframe\">\n",
       "  <thead>\n",
       "    <tr style=\"text-align: right;\">\n",
       "      <th></th>\n",
       "      <th>CODE</th>\n",
       "      <th>DEFINITION</th>\n",
       "      <th>MANHATTAN</th>\n",
       "      <th>ALL OTHER AREAS</th>\n",
       "    </tr>\n",
       "  </thead>\n",
       "  <tbody>\n",
       "    <tr>\n",
       "      <th>0</th>\n",
       "      <td>10</td>\n",
       "      <td>Stopping, standing or parking where a sign, st...</td>\n",
       "      <td>$115</td>\n",
       "      <td>$115</td>\n",
       "    </tr>\n",
       "    <tr>\n",
       "      <th>1</th>\n",
       "      <td>11</td>\n",
       "      <td>Hotel Loading/Unloading: Standing or parking w...</td>\n",
       "      <td>$115</td>\n",
       "      <td>$115</td>\n",
       "    </tr>\n",
       "    <tr>\n",
       "      <th>2</th>\n",
       "      <td>12</td>\n",
       "      <td>Snow Emergency: Standing or parking where stan...</td>\n",
       "      <td>$95</td>\n",
       "      <td>$95</td>\n",
       "    </tr>\n",
       "    <tr>\n",
       "      <th>3</th>\n",
       "      <td>13</td>\n",
       "      <td>Taxi Stand: Standing or parking where standing...</td>\n",
       "      <td>$115</td>\n",
       "      <td>$115</td>\n",
       "    </tr>\n",
       "    <tr>\n",
       "      <th>4</th>\n",
       "      <td>14</td>\n",
       "      <td>General No Standing: Standing or parking where...</td>\n",
       "      <td>$115</td>\n",
       "      <td>$115</td>\n",
       "    </tr>\n",
       "  </tbody>\n",
       "</table>\n",
       "</div>"
      ],
      "text/plain": [
       "  CODE                                         DEFINITION MANHATTAN  \\\n",
       "0   10  Stopping, standing or parking where a sign, st...     $115    \n",
       "1   11  Hotel Loading/Unloading: Standing or parking w...     $115    \n",
       "2   12  Snow Emergency: Standing or parking where stan...      $95    \n",
       "3   13  Taxi Stand: Standing or parking where standing...     $115    \n",
       "4   14  General No Standing: Standing or parking where...     $115    \n",
       "\n",
       "  ALL OTHER AREAS  \n",
       "0           $115   \n",
       "1           $115   \n",
       "2            $95   \n",
       "3           $115   \n",
       "4           $115   "
      ]
     },
     "execution_count": 2,
     "metadata": {},
     "output_type": "execute_result"
    }
   ],
   "source": [
    "col_types2={'CODE':'str'}\n",
    "code_df = pd.read_csv(\"DOF_Parking_Violation_Codes.csv\", skiprows=1,names=[\"CODE\",\"DEFINITION\",\"MANHATTAN\",\"ALL OTHER AREAS\"],dtype=col_types2)\n",
    "code_df.head(5)"
   ]
  },
  {
   "cell_type": "code",
   "execution_count": 3,
   "metadata": {
    "collapsed": false
   },
   "outputs": [
    {
     "data": {
      "text/plain": [
       "Index(['CODE', 'DEFINITION', 'MANHATTAN', 'ALL OTHER AREAS'], dtype='object')"
      ]
     },
     "execution_count": 3,
     "metadata": {},
     "output_type": "execute_result"
    }
   ],
   "source": [
    "code_df.columns"
   ]
  },
  {
   "cell_type": "code",
   "execution_count": 4,
   "metadata": {
    "collapsed": false
   },
   "outputs": [
    {
     "name": "stderr",
     "output_type": "stream",
     "text": [
      "/Users/zhizhou/.virtualenvs/data-analysis/lib/python3.5/site-packages/IPython/core/interactiveshell.py:2723: DtypeWarning: Columns (17,18,20,21,22,23,29,30,31,32,36,38,39) have mixed types. Specify dtype option on import or set low_memory=False.\n",
      "  interactivity=interactivity, compiler=compiler, result=result)\n"
     ]
    }
   ],
   "source": [
    "col_types={'Plate ID':'str','Violation Time':'str','Violation Code':'str'}\n",
    "violation = pd.read_csv(\"small-violations.csv\",na_values=['0'],parse_dates=True,\n",
    "                       dtype=col_types)"
   ]
  },
  {
   "cell_type": "code",
   "execution_count": 5,
   "metadata": {
    "collapsed": false
   },
   "outputs": [
    {
     "data": {
      "text/html": [
       "<div>\n",
       "<table border=\"1\" class=\"dataframe\">\n",
       "  <thead>\n",
       "    <tr style=\"text-align: right;\">\n",
       "      <th></th>\n",
       "      <th>Summons Number</th>\n",
       "      <th>Plate ID</th>\n",
       "      <th>Registration State</th>\n",
       "      <th>Plate Type</th>\n",
       "      <th>Issue Date</th>\n",
       "      <th>Violation Code</th>\n",
       "      <th>Vehicle Body Type</th>\n",
       "      <th>Vehicle Make</th>\n",
       "      <th>Issuing Agency</th>\n",
       "      <th>Street Code1</th>\n",
       "      <th>...</th>\n",
       "      <th>Vehicle Color</th>\n",
       "      <th>Unregistered Vehicle?</th>\n",
       "      <th>Vehicle Year</th>\n",
       "      <th>Meter Number</th>\n",
       "      <th>Feet From Curb</th>\n",
       "      <th>Violation Post Code</th>\n",
       "      <th>Violation Description</th>\n",
       "      <th>No Standing or Stopping Violation</th>\n",
       "      <th>Hydrant Violation</th>\n",
       "      <th>Double Parking Violation</th>\n",
       "    </tr>\n",
       "  </thead>\n",
       "  <tbody>\n",
       "    <tr>\n",
       "      <th>0</th>\n",
       "      <td>1283294138</td>\n",
       "      <td>GBB9093</td>\n",
       "      <td>NY</td>\n",
       "      <td>PAS</td>\n",
       "      <td>08/04/2013</td>\n",
       "      <td>46</td>\n",
       "      <td>SUBN</td>\n",
       "      <td>AUDI</td>\n",
       "      <td>P</td>\n",
       "      <td>37250.0</td>\n",
       "      <td>...</td>\n",
       "      <td>GY</td>\n",
       "      <td>NaN</td>\n",
       "      <td>2013.0</td>\n",
       "      <td>-</td>\n",
       "      <td>NaN</td>\n",
       "      <td>NaN</td>\n",
       "      <td>NaN</td>\n",
       "      <td>NaN</td>\n",
       "      <td>NaN</td>\n",
       "      <td>NaN</td>\n",
       "    </tr>\n",
       "    <tr>\n",
       "      <th>1</th>\n",
       "      <td>1283294151</td>\n",
       "      <td>62416MB</td>\n",
       "      <td>NY</td>\n",
       "      <td>COM</td>\n",
       "      <td>08/04/2013</td>\n",
       "      <td>46</td>\n",
       "      <td>VAN</td>\n",
       "      <td>FORD</td>\n",
       "      <td>P</td>\n",
       "      <td>37290.0</td>\n",
       "      <td>...</td>\n",
       "      <td>WH</td>\n",
       "      <td>NaN</td>\n",
       "      <td>2012.0</td>\n",
       "      <td>-</td>\n",
       "      <td>NaN</td>\n",
       "      <td>NaN</td>\n",
       "      <td>NaN</td>\n",
       "      <td>NaN</td>\n",
       "      <td>NaN</td>\n",
       "      <td>NaN</td>\n",
       "    </tr>\n",
       "    <tr>\n",
       "      <th>2</th>\n",
       "      <td>1283294163</td>\n",
       "      <td>78755JZ</td>\n",
       "      <td>NY</td>\n",
       "      <td>COM</td>\n",
       "      <td>08/05/2013</td>\n",
       "      <td>46</td>\n",
       "      <td>P-U</td>\n",
       "      <td>CHEVR</td>\n",
       "      <td>P</td>\n",
       "      <td>37030.0</td>\n",
       "      <td>...</td>\n",
       "      <td>NaN</td>\n",
       "      <td>NaN</td>\n",
       "      <td>NaN</td>\n",
       "      <td>-</td>\n",
       "      <td>NaN</td>\n",
       "      <td>NaN</td>\n",
       "      <td>NaN</td>\n",
       "      <td>NaN</td>\n",
       "      <td>NaN</td>\n",
       "      <td>NaN</td>\n",
       "    </tr>\n",
       "    <tr>\n",
       "      <th>3</th>\n",
       "      <td>1283294175</td>\n",
       "      <td>63009MA</td>\n",
       "      <td>NY</td>\n",
       "      <td>COM</td>\n",
       "      <td>08/05/2013</td>\n",
       "      <td>46</td>\n",
       "      <td>VAN</td>\n",
       "      <td>FORD</td>\n",
       "      <td>P</td>\n",
       "      <td>37270.0</td>\n",
       "      <td>...</td>\n",
       "      <td>WH</td>\n",
       "      <td>NaN</td>\n",
       "      <td>2010.0</td>\n",
       "      <td>-</td>\n",
       "      <td>NaN</td>\n",
       "      <td>NaN</td>\n",
       "      <td>NaN</td>\n",
       "      <td>NaN</td>\n",
       "      <td>NaN</td>\n",
       "      <td>NaN</td>\n",
       "    </tr>\n",
       "    <tr>\n",
       "      <th>4</th>\n",
       "      <td>1283294187</td>\n",
       "      <td>91648MC</td>\n",
       "      <td>NY</td>\n",
       "      <td>COM</td>\n",
       "      <td>08/08/2013</td>\n",
       "      <td>41</td>\n",
       "      <td>TRLR</td>\n",
       "      <td>GMC</td>\n",
       "      <td>P</td>\n",
       "      <td>37240.0</td>\n",
       "      <td>...</td>\n",
       "      <td>BR</td>\n",
       "      <td>NaN</td>\n",
       "      <td>2012.0</td>\n",
       "      <td>-</td>\n",
       "      <td>NaN</td>\n",
       "      <td>NaN</td>\n",
       "      <td>NaN</td>\n",
       "      <td>NaN</td>\n",
       "      <td>NaN</td>\n",
       "      <td>NaN</td>\n",
       "    </tr>\n",
       "    <tr>\n",
       "      <th>5</th>\n",
       "      <td>1283294217</td>\n",
       "      <td>T60DAR</td>\n",
       "      <td>NJ</td>\n",
       "      <td>PAS</td>\n",
       "      <td>08/11/2013</td>\n",
       "      <td>14</td>\n",
       "      <td>P-U</td>\n",
       "      <td>DODGE</td>\n",
       "      <td>P</td>\n",
       "      <td>37250.0</td>\n",
       "      <td>...</td>\n",
       "      <td>RD</td>\n",
       "      <td>NaN</td>\n",
       "      <td>NaN</td>\n",
       "      <td>-</td>\n",
       "      <td>NaN</td>\n",
       "      <td>NaN</td>\n",
       "      <td>NaN</td>\n",
       "      <td>NaN</td>\n",
       "      <td>NaN</td>\n",
       "      <td>NaN</td>\n",
       "    </tr>\n",
       "    <tr>\n",
       "      <th>6</th>\n",
       "      <td>1283294229</td>\n",
       "      <td>GCR2838</td>\n",
       "      <td>NY</td>\n",
       "      <td>PAS</td>\n",
       "      <td>08/11/2013</td>\n",
       "      <td>14</td>\n",
       "      <td>VAN</td>\n",
       "      <td>NaN</td>\n",
       "      <td>P</td>\n",
       "      <td>37250.0</td>\n",
       "      <td>...</td>\n",
       "      <td>GN</td>\n",
       "      <td>NaN</td>\n",
       "      <td>2011.0</td>\n",
       "      <td>-</td>\n",
       "      <td>NaN</td>\n",
       "      <td>NaN</td>\n",
       "      <td>NaN</td>\n",
       "      <td>NaN</td>\n",
       "      <td>NaN</td>\n",
       "      <td>NaN</td>\n",
       "    </tr>\n",
       "    <tr>\n",
       "      <th>7</th>\n",
       "      <td>1283983620</td>\n",
       "      <td>XZ764G</td>\n",
       "      <td>NJ</td>\n",
       "      <td>PAS</td>\n",
       "      <td>08/07/2013</td>\n",
       "      <td>24</td>\n",
       "      <td>DELV</td>\n",
       "      <td>FORD</td>\n",
       "      <td>X</td>\n",
       "      <td>63430.0</td>\n",
       "      <td>...</td>\n",
       "      <td>WHITE</td>\n",
       "      <td>NaN</td>\n",
       "      <td>NaN</td>\n",
       "      <td>-</td>\n",
       "      <td>NaN</td>\n",
       "      <td>NaN</td>\n",
       "      <td>NaN</td>\n",
       "      <td>NaN</td>\n",
       "      <td>NaN</td>\n",
       "      <td>NaN</td>\n",
       "    </tr>\n",
       "    <tr>\n",
       "      <th>8</th>\n",
       "      <td>1283983631</td>\n",
       "      <td>GBH9379</td>\n",
       "      <td>NY</td>\n",
       "      <td>PAS</td>\n",
       "      <td>08/07/2013</td>\n",
       "      <td>24</td>\n",
       "      <td>SDN</td>\n",
       "      <td>TOYOT</td>\n",
       "      <td>X</td>\n",
       "      <td>63430.0</td>\n",
       "      <td>...</td>\n",
       "      <td>WHITE</td>\n",
       "      <td>NaN</td>\n",
       "      <td>2001.0</td>\n",
       "      <td>-</td>\n",
       "      <td>NaN</td>\n",
       "      <td>NaN</td>\n",
       "      <td>NaN</td>\n",
       "      <td>NaN</td>\n",
       "      <td>NaN</td>\n",
       "      <td>NaN</td>\n",
       "    </tr>\n",
       "    <tr>\n",
       "      <th>9</th>\n",
       "      <td>1283983667</td>\n",
       "      <td>MCL78B</td>\n",
       "      <td>NJ</td>\n",
       "      <td>PAS</td>\n",
       "      <td>07/18/2013</td>\n",
       "      <td>24</td>\n",
       "      <td>SDN</td>\n",
       "      <td>SUBAR</td>\n",
       "      <td>H</td>\n",
       "      <td>NaN</td>\n",
       "      <td>...</td>\n",
       "      <td>BLACK</td>\n",
       "      <td>NaN</td>\n",
       "      <td>2005.0</td>\n",
       "      <td>-</td>\n",
       "      <td>NaN</td>\n",
       "      <td>NaN</td>\n",
       "      <td>NaN</td>\n",
       "      <td>NaN</td>\n",
       "      <td>NaN</td>\n",
       "      <td>NaN</td>\n",
       "    </tr>\n",
       "    <tr>\n",
       "      <th>10</th>\n",
       "      <td>1283983679</td>\n",
       "      <td>M367CN</td>\n",
       "      <td>NY</td>\n",
       "      <td>PAS</td>\n",
       "      <td>07/18/2013</td>\n",
       "      <td>24</td>\n",
       "      <td>SDN</td>\n",
       "      <td>HYUND</td>\n",
       "      <td>H</td>\n",
       "      <td>NaN</td>\n",
       "      <td>...</td>\n",
       "      <td>BLUE</td>\n",
       "      <td>NaN</td>\n",
       "      <td>2010.0</td>\n",
       "      <td>-</td>\n",
       "      <td>NaN</td>\n",
       "      <td>NaN</td>\n",
       "      <td>NaN</td>\n",
       "      <td>NaN</td>\n",
       "      <td>NaN</td>\n",
       "      <td>NaN</td>\n",
       "    </tr>\n",
       "    <tr>\n",
       "      <th>11</th>\n",
       "      <td>1283983734</td>\n",
       "      <td>GAR6813</td>\n",
       "      <td>NY</td>\n",
       "      <td>PAS</td>\n",
       "      <td>07/18/2013</td>\n",
       "      <td>24</td>\n",
       "      <td>SDN</td>\n",
       "      <td>TOYOT</td>\n",
       "      <td>H</td>\n",
       "      <td>NaN</td>\n",
       "      <td>...</td>\n",
       "      <td>TAN</td>\n",
       "      <td>NaN</td>\n",
       "      <td>1998.0</td>\n",
       "      <td>-</td>\n",
       "      <td>NaN</td>\n",
       "      <td>NaN</td>\n",
       "      <td>NaN</td>\n",
       "      <td>NaN</td>\n",
       "      <td>NaN</td>\n",
       "      <td>NaN</td>\n",
       "    </tr>\n",
       "    <tr>\n",
       "      <th>12</th>\n",
       "      <td>1283983771</td>\n",
       "      <td>GEN8674</td>\n",
       "      <td>NY</td>\n",
       "      <td>PAS</td>\n",
       "      <td>07/31/2013</td>\n",
       "      <td>24</td>\n",
       "      <td>SDN</td>\n",
       "      <td>AUDI</td>\n",
       "      <td>X</td>\n",
       "      <td>NaN</td>\n",
       "      <td>...</td>\n",
       "      <td>GOLD</td>\n",
       "      <td>NaN</td>\n",
       "      <td>NaN</td>\n",
       "      <td>-</td>\n",
       "      <td>NaN</td>\n",
       "      <td>NaN</td>\n",
       "      <td>NaN</td>\n",
       "      <td>NaN</td>\n",
       "      <td>NaN</td>\n",
       "      <td>NaN</td>\n",
       "    </tr>\n",
       "    <tr>\n",
       "      <th>13</th>\n",
       "      <td>1283983825</td>\n",
       "      <td>GAC2703</td>\n",
       "      <td>NY</td>\n",
       "      <td>PAS</td>\n",
       "      <td>08/12/2013</td>\n",
       "      <td>24</td>\n",
       "      <td>SDN</td>\n",
       "      <td>NISSA</td>\n",
       "      <td>X</td>\n",
       "      <td>23230.0</td>\n",
       "      <td>...</td>\n",
       "      <td>WHITE</td>\n",
       "      <td>NaN</td>\n",
       "      <td>2012.0</td>\n",
       "      <td>-</td>\n",
       "      <td>NaN</td>\n",
       "      <td>NaN</td>\n",
       "      <td>NaN</td>\n",
       "      <td>NaN</td>\n",
       "      <td>NaN</td>\n",
       "      <td>NaN</td>\n",
       "    </tr>\n",
       "    <tr>\n",
       "      <th>14</th>\n",
       "      <td>1286036800</td>\n",
       "      <td>40793JY</td>\n",
       "      <td>NY</td>\n",
       "      <td>COM</td>\n",
       "      <td>07/05/2013</td>\n",
       "      <td>14</td>\n",
       "      <td>VAN</td>\n",
       "      <td>CHEVR</td>\n",
       "      <td>P</td>\n",
       "      <td>34190.0</td>\n",
       "      <td>...</td>\n",
       "      <td>GREEN</td>\n",
       "      <td>NaN</td>\n",
       "      <td>1995.0</td>\n",
       "      <td>-</td>\n",
       "      <td>NaN</td>\n",
       "      <td>NaN</td>\n",
       "      <td>NaN</td>\n",
       "      <td>NaN</td>\n",
       "      <td>NaN</td>\n",
       "      <td>NaN</td>\n",
       "    </tr>\n",
       "    <tr>\n",
       "      <th>15</th>\n",
       "      <td>1286123550</td>\n",
       "      <td>GAD1485</td>\n",
       "      <td>NY</td>\n",
       "      <td>PAS</td>\n",
       "      <td>08/12/2013</td>\n",
       "      <td>20</td>\n",
       "      <td>SDN</td>\n",
       "      <td>VOLKS</td>\n",
       "      <td>T</td>\n",
       "      <td>28930.0</td>\n",
       "      <td>...</td>\n",
       "      <td>WHITE</td>\n",
       "      <td>NaN</td>\n",
       "      <td>2012.0</td>\n",
       "      <td>-</td>\n",
       "      <td>NaN</td>\n",
       "      <td>NaN</td>\n",
       "      <td>NaN</td>\n",
       "      <td>NaN</td>\n",
       "      <td>NaN</td>\n",
       "      <td>NaN</td>\n",
       "    </tr>\n",
       "    <tr>\n",
       "      <th>16</th>\n",
       "      <td>1286246398</td>\n",
       "      <td>GFC5338</td>\n",
       "      <td>NY</td>\n",
       "      <td>PAS</td>\n",
       "      <td>07/26/2013</td>\n",
       "      <td>14</td>\n",
       "      <td>SDN</td>\n",
       "      <td>TOYOT</td>\n",
       "      <td>T</td>\n",
       "      <td>NaN</td>\n",
       "      <td>...</td>\n",
       "      <td>GRAY</td>\n",
       "      <td>NaN</td>\n",
       "      <td>2010.0</td>\n",
       "      <td>-</td>\n",
       "      <td>NaN</td>\n",
       "      <td>NaN</td>\n",
       "      <td>NaN</td>\n",
       "      <td>NaN</td>\n",
       "      <td>NaN</td>\n",
       "      <td>NaN</td>\n",
       "    </tr>\n",
       "    <tr>\n",
       "      <th>17</th>\n",
       "      <td>1286246416</td>\n",
       "      <td>815M342</td>\n",
       "      <td>MD</td>\n",
       "      <td>PAS</td>\n",
       "      <td>07/30/2013</td>\n",
       "      <td>20</td>\n",
       "      <td>SUBN</td>\n",
       "      <td>SATUR</td>\n",
       "      <td>T</td>\n",
       "      <td>NaN</td>\n",
       "      <td>...</td>\n",
       "      <td>GREEN</td>\n",
       "      <td>NaN</td>\n",
       "      <td>NaN</td>\n",
       "      <td>-</td>\n",
       "      <td>NaN</td>\n",
       "      <td>NaN</td>\n",
       "      <td>NaN</td>\n",
       "      <td>NaN</td>\n",
       "      <td>NaN</td>\n",
       "      <td>NaN</td>\n",
       "    </tr>\n",
       "    <tr>\n",
       "      <th>18</th>\n",
       "      <td>1286248000</td>\n",
       "      <td>GJA3452</td>\n",
       "      <td>NY</td>\n",
       "      <td>PAS</td>\n",
       "      <td>07/23/2013</td>\n",
       "      <td>14</td>\n",
       "      <td>SDN</td>\n",
       "      <td>KIA</td>\n",
       "      <td>T</td>\n",
       "      <td>73690.0</td>\n",
       "      <td>...</td>\n",
       "      <td>WH</td>\n",
       "      <td>NaN</td>\n",
       "      <td>2013.0</td>\n",
       "      <td>-</td>\n",
       "      <td>NaN</td>\n",
       "      <td>NaN</td>\n",
       "      <td>NaN</td>\n",
       "      <td>NaN</td>\n",
       "      <td>NaN</td>\n",
       "      <td>NaN</td>\n",
       "    </tr>\n",
       "    <tr>\n",
       "      <th>19</th>\n",
       "      <td>1286282330</td>\n",
       "      <td>YZY6476</td>\n",
       "      <td>NC</td>\n",
       "      <td>PAS</td>\n",
       "      <td>07/29/2013</td>\n",
       "      <td>20</td>\n",
       "      <td>SDN</td>\n",
       "      <td>NISSA</td>\n",
       "      <td>T</td>\n",
       "      <td>32030.0</td>\n",
       "      <td>...</td>\n",
       "      <td>WHITE</td>\n",
       "      <td>NaN</td>\n",
       "      <td>NaN</td>\n",
       "      <td>-</td>\n",
       "      <td>NaN</td>\n",
       "      <td>NaN</td>\n",
       "      <td>NaN</td>\n",
       "      <td>NaN</td>\n",
       "      <td>NaN</td>\n",
       "      <td>NaN</td>\n",
       "    </tr>\n",
       "  </tbody>\n",
       "</table>\n",
       "<p>20 rows × 43 columns</p>\n",
       "</div>"
      ],
      "text/plain": [
       "    Summons Number Plate ID Registration State Plate Type  Issue Date  \\\n",
       "0       1283294138  GBB9093                 NY        PAS  08/04/2013   \n",
       "1       1283294151  62416MB                 NY        COM  08/04/2013   \n",
       "2       1283294163  78755JZ                 NY        COM  08/05/2013   \n",
       "3       1283294175  63009MA                 NY        COM  08/05/2013   \n",
       "4       1283294187  91648MC                 NY        COM  08/08/2013   \n",
       "5       1283294217   T60DAR                 NJ        PAS  08/11/2013   \n",
       "6       1283294229  GCR2838                 NY        PAS  08/11/2013   \n",
       "7       1283983620   XZ764G                 NJ        PAS  08/07/2013   \n",
       "8       1283983631  GBH9379                 NY        PAS  08/07/2013   \n",
       "9       1283983667   MCL78B                 NJ        PAS  07/18/2013   \n",
       "10      1283983679   M367CN                 NY        PAS  07/18/2013   \n",
       "11      1283983734  GAR6813                 NY        PAS  07/18/2013   \n",
       "12      1283983771  GEN8674                 NY        PAS  07/31/2013   \n",
       "13      1283983825  GAC2703                 NY        PAS  08/12/2013   \n",
       "14      1286036800  40793JY                 NY        COM  07/05/2013   \n",
       "15      1286123550  GAD1485                 NY        PAS  08/12/2013   \n",
       "16      1286246398  GFC5338                 NY        PAS  07/26/2013   \n",
       "17      1286246416  815M342                 MD        PAS  07/30/2013   \n",
       "18      1286248000  GJA3452                 NY        PAS  07/23/2013   \n",
       "19      1286282330  YZY6476                 NC        PAS  07/29/2013   \n",
       "\n",
       "   Violation Code Vehicle Body Type Vehicle Make Issuing Agency  Street Code1  \\\n",
       "0              46              SUBN         AUDI              P       37250.0   \n",
       "1              46               VAN         FORD              P       37290.0   \n",
       "2              46               P-U        CHEVR              P       37030.0   \n",
       "3              46               VAN         FORD              P       37270.0   \n",
       "4              41              TRLR          GMC              P       37240.0   \n",
       "5              14               P-U        DODGE              P       37250.0   \n",
       "6              14               VAN          NaN              P       37250.0   \n",
       "7              24              DELV         FORD              X       63430.0   \n",
       "8              24               SDN        TOYOT              X       63430.0   \n",
       "9              24               SDN        SUBAR              H           NaN   \n",
       "10             24               SDN        HYUND              H           NaN   \n",
       "11             24               SDN        TOYOT              H           NaN   \n",
       "12             24               SDN         AUDI              X           NaN   \n",
       "13             24               SDN        NISSA              X       23230.0   \n",
       "14             14               VAN        CHEVR              P       34190.0   \n",
       "15             20               SDN        VOLKS              T       28930.0   \n",
       "16             14               SDN        TOYOT              T           NaN   \n",
       "17             20              SUBN        SATUR              T           NaN   \n",
       "18             14               SDN          KIA              T       73690.0   \n",
       "19             20               SDN        NISSA              T       32030.0   \n",
       "\n",
       "             ...             Vehicle Color  Unregistered Vehicle?  \\\n",
       "0            ...                        GY                    NaN   \n",
       "1            ...                        WH                    NaN   \n",
       "2            ...                       NaN                    NaN   \n",
       "3            ...                        WH                    NaN   \n",
       "4            ...                        BR                    NaN   \n",
       "5            ...                        RD                    NaN   \n",
       "6            ...                        GN                    NaN   \n",
       "7            ...                     WHITE                    NaN   \n",
       "8            ...                     WHITE                    NaN   \n",
       "9            ...                     BLACK                    NaN   \n",
       "10           ...                      BLUE                    NaN   \n",
       "11           ...                       TAN                    NaN   \n",
       "12           ...                      GOLD                    NaN   \n",
       "13           ...                     WHITE                    NaN   \n",
       "14           ...                     GREEN                    NaN   \n",
       "15           ...                     WHITE                    NaN   \n",
       "16           ...                      GRAY                    NaN   \n",
       "17           ...                     GREEN                    NaN   \n",
       "18           ...                        WH                    NaN   \n",
       "19           ...                     WHITE                    NaN   \n",
       "\n",
       "    Vehicle Year  Meter Number  Feet From Curb  Violation Post Code  \\\n",
       "0         2013.0             -             NaN                  NaN   \n",
       "1         2012.0             -             NaN                  NaN   \n",
       "2            NaN             -             NaN                  NaN   \n",
       "3         2010.0             -             NaN                  NaN   \n",
       "4         2012.0             -             NaN                  NaN   \n",
       "5            NaN             -             NaN                  NaN   \n",
       "6         2011.0             -             NaN                  NaN   \n",
       "7            NaN             -             NaN                  NaN   \n",
       "8         2001.0             -             NaN                  NaN   \n",
       "9         2005.0             -             NaN                  NaN   \n",
       "10        2010.0             -             NaN                  NaN   \n",
       "11        1998.0             -             NaN                  NaN   \n",
       "12           NaN             -             NaN                  NaN   \n",
       "13        2012.0             -             NaN                  NaN   \n",
       "14        1995.0             -             NaN                  NaN   \n",
       "15        2012.0             -             NaN                  NaN   \n",
       "16        2010.0             -             NaN                  NaN   \n",
       "17           NaN             -             NaN                  NaN   \n",
       "18        2013.0             -             NaN                  NaN   \n",
       "19           NaN             -             NaN                  NaN   \n",
       "\n",
       "    Violation Description No Standing or Stopping Violation Hydrant Violation  \\\n",
       "0                     NaN                               NaN               NaN   \n",
       "1                     NaN                               NaN               NaN   \n",
       "2                     NaN                               NaN               NaN   \n",
       "3                     NaN                               NaN               NaN   \n",
       "4                     NaN                               NaN               NaN   \n",
       "5                     NaN                               NaN               NaN   \n",
       "6                     NaN                               NaN               NaN   \n",
       "7                     NaN                               NaN               NaN   \n",
       "8                     NaN                               NaN               NaN   \n",
       "9                     NaN                               NaN               NaN   \n",
       "10                    NaN                               NaN               NaN   \n",
       "11                    NaN                               NaN               NaN   \n",
       "12                    NaN                               NaN               NaN   \n",
       "13                    NaN                               NaN               NaN   \n",
       "14                    NaN                               NaN               NaN   \n",
       "15                    NaN                               NaN               NaN   \n",
       "16                    NaN                               NaN               NaN   \n",
       "17                    NaN                               NaN               NaN   \n",
       "18                    NaN                               NaN               NaN   \n",
       "19                    NaN                               NaN               NaN   \n",
       "\n",
       "   Double Parking Violation  \n",
       "0                       NaN  \n",
       "1                       NaN  \n",
       "2                       NaN  \n",
       "3                       NaN  \n",
       "4                       NaN  \n",
       "5                       NaN  \n",
       "6                       NaN  \n",
       "7                       NaN  \n",
       "8                       NaN  \n",
       "9                       NaN  \n",
       "10                      NaN  \n",
       "11                      NaN  \n",
       "12                      NaN  \n",
       "13                      NaN  \n",
       "14                      NaN  \n",
       "15                      NaN  \n",
       "16                      NaN  \n",
       "17                      NaN  \n",
       "18                      NaN  \n",
       "19                      NaN  \n",
       "\n",
       "[20 rows x 43 columns]"
      ]
     },
     "execution_count": 5,
     "metadata": {},
     "output_type": "execute_result"
    }
   ],
   "source": [
    "violation.head(20)"
   ]
  },
  {
   "cell_type": "code",
   "execution_count": 6,
   "metadata": {
    "collapsed": false
   },
   "outputs": [
    {
     "data": {
      "text/plain": [
       "pandas.core.series.Series"
      ]
     },
     "execution_count": 6,
     "metadata": {},
     "output_type": "execute_result"
    }
   ],
   "source": [
    "type(violation['Issue Date'])"
   ]
  },
  {
   "cell_type": "code",
   "execution_count": 7,
   "metadata": {
    "collapsed": false
   },
   "outputs": [
    {
     "data": {
      "text/plain": [
       "Index(['Summons Number', 'Plate ID', 'Registration State', 'Plate Type',\n",
       "       'Issue Date', 'Violation Code', 'Vehicle Body Type', 'Vehicle Make',\n",
       "       'Issuing Agency', 'Street Code1', 'Street Code2', 'Street Code3',\n",
       "       'Vehicle Expiration Date', 'Violation Location', 'Violation Precinct',\n",
       "       'Issuer Precinct', 'Issuer Code', 'Issuer Command', 'Issuer Squad',\n",
       "       'Violation Time', 'Time First Observed', 'Violation County',\n",
       "       'Violation In Front Of Or Opposite', 'House Number', 'Street Name',\n",
       "       'Intersecting Street', 'Date First Observed', 'Law Section',\n",
       "       'Sub Division', 'Violation Legal Code', 'Days Parking In Effect    ',\n",
       "       'From Hours In Effect', 'To Hours In Effect', 'Vehicle Color',\n",
       "       'Unregistered Vehicle?', 'Vehicle Year', 'Meter Number',\n",
       "       'Feet From Curb', 'Violation Post Code', 'Violation Description',\n",
       "       'No Standing or Stopping Violation', 'Hydrant Violation',\n",
       "       'Double Parking Violation'],\n",
       "      dtype='object')"
      ]
     },
     "execution_count": 7,
     "metadata": {},
     "output_type": "execute_result"
    }
   ],
   "source": [
    "violation.columns"
   ]
  },
  {
   "cell_type": "code",
   "execution_count": 15,
   "metadata": {
    "collapsed": false
   },
   "outputs": [],
   "source": [
    "from dateutil.parser import parse\n",
    "from datetime import datetime\n",
    "import math\n",
    "import re"
   ]
  },
  {
   "cell_type": "code",
   "execution_count": 9,
   "metadata": {
    "collapsed": false
   },
   "outputs": [],
   "source": [
    "def observed_to_date(num):    \n",
    "    if math.isnan(num):\n",
    "        return \"NaN\"\n",
    "    else:\n",
    "        number = str(num).replace(\".0\",\"\")\n",
    "        date = datetime.strptime(number,'%Y%m%d')\n",
    "        return date.strftime('%Y-%m-%d')\n",
    "\n",
    "# print(observed_to_date(20161112.0))\n",
    "# print(observed_to_date(20041231))\n",
    "# print(observed_to_date(20130913.0))"
   ]
  },
  {
   "cell_type": "code",
   "execution_count": 10,
   "metadata": {
    "collapsed": false
   },
   "outputs": [],
   "source": [
    "violation['Date First Observed'].apply(observed_to_date)\n",
    "violation['Date First Observed New'] = violation['Date First Observed'].apply(observed_to_date)"
   ]
  },
  {
   "cell_type": "code",
   "execution_count": 11,
   "metadata": {
    "collapsed": false
   },
   "outputs": [],
   "source": [
    "def string_to_time(num): \n",
    "    time = str(num) + \"M\"\n",
    "    if time == \"nanM\":\n",
    "        return \"NaN\"\n",
    "    else:\n",
    "        if re.search(\"[+/*$%]\",time) is not None:\n",
    "            return \"NaN\"\n",
    "        else:\n",
    "            time2 = re.sub(\"^00\",\"12\",time)\n",
    "            if re.search(\"^\\d\\d\",time2) is not None:\n",
    "                if int(re.findall(\"^\\d\\d\",time2)[0]) <= 12:\n",
    "                    time3 = datetime.strptime(time2,'%I%M%p')\n",
    "                    return time3.strftime('%H:%M')\n",
    "                else:\n",
    "                    return \"NaN\"\n",
    "            else:\n",
    "                return \"NaN\"\n",
    "\n",
    "# print(string_to_time('1025A'))\n",
    "# print(string_to_time('0218P'))\n",
    "# print(string_to_time('0158P'))\n",
    "\n",
    "###  WHY DOES'8445PM' EXIST ?????"
   ]
  },
  {
   "cell_type": "code",
   "execution_count": 12,
   "metadata": {
    "collapsed": false
   },
   "outputs": [],
   "source": [
    "violation['Violation Time New'] = violation['Violation Time'].apply(string_to_time)"
   ]
  },
  {
   "cell_type": "code",
   "execution_count": 17,
   "metadata": {
    "collapsed": false
   },
   "outputs": [],
   "source": [
    "violation['Vehicle Color New'] = violation['Vehicle Color'].apply(color_to_one)"
   ]
  },
  {
   "cell_type": "code",
   "execution_count": 16,
   "metadata": {
    "collapsed": false
   },
   "outputs": [],
   "source": [
    "def color_to_one(co):\n",
    "    if co is not float:\n",
    "        co = re.sub(\"BLK\",\"BLACK\",str(co))\n",
    "        co = re.sub(\"WHT\",\"WHITE\",str(co))\n",
    "        co = re.sub(\"WH$\",\"WHITE\",str(co))\n",
    "        co = re.sub(\"YELL$\",\"YELLOW\",str(co))\n",
    "        co = re.sub(\"YELLO$\",\"YELLOW\",str(co))\n",
    "        co = re.sub(\"YLW\",\"YELLOW\",str(co))\n",
    "        co = re.sub(\"YW/\",\"YELLOW\",str(co))\n",
    "        return co"
   ]
  },
  {
   "cell_type": "markdown",
   "metadata": {
    "collapsed": false
   },
   "source": [
    "### Merge"
   ]
  },
  {
   "cell_type": "code",
   "execution_count": 18,
   "metadata": {
    "collapsed": false
   },
   "outputs": [],
   "source": [
    "parking = violation.merge(code_df,left_on = 'Violation Code',right_on='CODE')"
   ]
  },
  {
   "cell_type": "code",
   "execution_count": 19,
   "metadata": {
    "collapsed": false
   },
   "outputs": [
    {
     "data": {
      "text/plain": [
       "Index(['Summons Number', 'Plate ID', 'Registration State', 'Plate Type',\n",
       "       'Issue Date', 'Violation Code', 'Vehicle Body Type', 'Vehicle Make',\n",
       "       'Issuing Agency', 'Street Code1', 'Street Code2', 'Street Code3',\n",
       "       'Vehicle Expiration Date', 'Violation Location', 'Violation Precinct',\n",
       "       'Issuer Precinct', 'Issuer Code', 'Issuer Command', 'Issuer Squad',\n",
       "       'Violation Time', 'Time First Observed', 'Violation County',\n",
       "       'Violation In Front Of Or Opposite', 'House Number', 'Street Name',\n",
       "       'Intersecting Street', 'Date First Observed', 'Law Section',\n",
       "       'Sub Division', 'Violation Legal Code', 'Days Parking In Effect    ',\n",
       "       'From Hours In Effect', 'To Hours In Effect', 'Vehicle Color',\n",
       "       'Unregistered Vehicle?', 'Vehicle Year', 'Meter Number',\n",
       "       'Feet From Curb', 'Violation Post Code', 'Violation Description',\n",
       "       'No Standing or Stopping Violation', 'Hydrant Violation',\n",
       "       'Double Parking Violation', 'Date First Observed New',\n",
       "       'Violation Time New', 'Vehicle Color New', 'CODE', 'DEFINITION',\n",
       "       'MANHATTAN', 'ALL OTHER AREAS'],\n",
       "      dtype='object')"
      ]
     },
     "execution_count": 19,
     "metadata": {},
     "output_type": "execute_result"
    }
   ],
   "source": [
    "parking.columns"
   ]
  },
  {
   "cell_type": "code",
   "execution_count": 20,
   "metadata": {
    "collapsed": false
   },
   "outputs": [
    {
     "data": {
      "text/plain": [
       "count     709594\n",
       "unique         8\n",
       "top         $65 \n",
       "freq      356437\n",
       "Name: MANHATTAN, dtype: object"
      ]
     },
     "execution_count": 20,
     "metadata": {},
     "output_type": "execute_result"
    }
   ],
   "source": [
    "parking['MANHATTAN'].describe()"
   ]
  },
  {
   "cell_type": "code",
   "execution_count": 21,
   "metadata": {
    "collapsed": false
   },
   "outputs": [
    {
     "name": "stdout",
     "output_type": "stream",
     "text": [
      "NYC make off 59367070 dolloars of parking violations\n"
     ]
    }
   ],
   "source": [
    "def to_money(num):\n",
    "    if num != \"vary\":\n",
    "        new = re.findall(\"\\$\\d*\",num)[0]\n",
    "        num2 = new.replace('$',\"\")\n",
    "        return int(num2)\n",
    "    else:\n",
    "        return 0\n",
    "parking['money'] = parking['ALL OTHER AREAS'].apply(to_money)\n",
    "parking['money'].sum()\n",
    "print(\"NYC make off\",parking['money'].sum(),\"dolloars of parking violations\")"
   ]
  },
  {
   "cell_type": "code",
   "execution_count": 22,
   "metadata": {
    "collapsed": false
   },
   "outputs": [
    {
     "data": {
      "text/plain": [
       "count                                                709594\n",
       "unique                                                   77\n",
       "top       Street Cleaning: No parking where parking is n...\n",
       "freq                                                 140329\n",
       "Name: DEFINITION, dtype: object"
      ]
     },
     "execution_count": 22,
     "metadata": {},
     "output_type": "execute_result"
    }
   ],
   "source": [
    "parking['DEFINITION'].describe()\n",
    "## the top one is the most frequent one"
   ]
  },
  {
   "cell_type": "code",
   "execution_count": 23,
   "metadata": {
    "collapsed": false
   },
   "outputs": [
    {
     "data": {
      "text/plain": [
       "count     709594\n",
       "unique        77\n",
       "top           21\n",
       "freq      140329\n",
       "Name: CODE, dtype: object"
      ]
     },
     "execution_count": 23,
     "metadata": {},
     "output_type": "execute_result"
    }
   ],
   "source": [
    "parking['CODE'].describe()"
   ]
  },
  {
   "cell_type": "markdown",
   "metadata": {
    "collapsed": false
   },
   "source": [
    "## How much money does NYC make off of all non-New York vehicles?"
   ]
  },
  {
   "cell_type": "code",
   "execution_count": 24,
   "metadata": {
    "collapsed": false
   },
   "outputs": [
    {
     "name": "stdout",
     "output_type": "stream",
     "text": [
      "NYC make off 15789365 money of all non-New York vehicles.\n"
     ]
    }
   ],
   "source": [
    "non_ny = parking[parking['Registration State']!='NY']['money'].sum()\n",
    "print(\"NYC make off\",non_ny,\"money of all non-New York vehicles.\")"
   ]
  },
  {
   "cell_type": "code",
   "execution_count": 25,
   "metadata": {
    "collapsed": false
   },
   "outputs": [],
   "source": [
    "import matplotlib\n",
    "%matplotlib inline"
   ]
  },
  {
   "cell_type": "code",
   "execution_count": 26,
   "metadata": {
    "collapsed": false
   },
   "outputs": [
    {
     "data": {
      "text/plain": [
       "<matplotlib.axes._subplots.AxesSubplot at 0x117689e80>"
      ]
     },
     "execution_count": 26,
     "metadata": {},
     "output_type": "execute_result"
    },
    {
     "data": {
      "image/png": "[encoded data removed]",
      "text/plain": [
       "<matplotlib.figure.Figure at 0x117689320>"
      ]
     },
     "metadata": {},
     "output_type": "display_data"
    }
   ],
   "source": [
    "parking[parking['Registration State']!='NY']['Registration State'].value_counts().head(10).plot(kind='barh')"
   ]
  },
  {
   "cell_type": "markdown",
   "metadata": {},
   "source": [
    "##  What time of day do people usually get their tickets?"
   ]
  },
  {
   "cell_type": "code",
   "execution_count": 27,
   "metadata": {
    "collapsed": false
   },
   "outputs": [
    {
     "data": {
      "text/html": [
       "<div>\n",
       "<table border=\"1\" class=\"dataframe\">\n",
       "  <thead>\n",
       "    <tr style=\"text-align: right;\">\n",
       "      <th></th>\n",
       "      <th>Summons Number</th>\n",
       "      <th>Plate ID</th>\n",
       "      <th>Registration State</th>\n",
       "      <th>Plate Type</th>\n",
       "      <th>Issue Date</th>\n",
       "      <th>Violation Code</th>\n",
       "      <th>Vehicle Body Type</th>\n",
       "      <th>Vehicle Make</th>\n",
       "      <th>Issuing Agency</th>\n",
       "      <th>Street Code1</th>\n",
       "      <th>...</th>\n",
       "      <th>Hydrant Violation</th>\n",
       "      <th>Double Parking Violation</th>\n",
       "      <th>Date First Observed New</th>\n",
       "      <th>Violation Time New</th>\n",
       "      <th>Vehicle Color New</th>\n",
       "      <th>CODE</th>\n",
       "      <th>DEFINITION</th>\n",
       "      <th>MANHATTAN</th>\n",
       "      <th>ALL OTHER AREAS</th>\n",
       "      <th>money</th>\n",
       "    </tr>\n",
       "  </thead>\n",
       "  <tbody>\n",
       "    <tr>\n",
       "      <th>0</th>\n",
       "      <td>1283294138</td>\n",
       "      <td>GBB9093</td>\n",
       "      <td>NY</td>\n",
       "      <td>PAS</td>\n",
       "      <td>08/04/2013</td>\n",
       "      <td>46</td>\n",
       "      <td>SUBN</td>\n",
       "      <td>AUDI</td>\n",
       "      <td>P</td>\n",
       "      <td>37250.0</td>\n",
       "      <td>...</td>\n",
       "      <td>NaN</td>\n",
       "      <td>NaN</td>\n",
       "      <td>NaN</td>\n",
       "      <td>07:52</td>\n",
       "      <td>GY</td>\n",
       "      <td>46</td>\n",
       "      <td>Standing or parking on the roadway side of a v...</td>\n",
       "      <td>$115</td>\n",
       "      <td>$115</td>\n",
       "      <td>115</td>\n",
       "    </tr>\n",
       "    <tr>\n",
       "      <th>1</th>\n",
       "      <td>1283294151</td>\n",
       "      <td>62416MB</td>\n",
       "      <td>NY</td>\n",
       "      <td>COM</td>\n",
       "      <td>08/04/2013</td>\n",
       "      <td>46</td>\n",
       "      <td>VAN</td>\n",
       "      <td>FORD</td>\n",
       "      <td>P</td>\n",
       "      <td>37290.0</td>\n",
       "      <td>...</td>\n",
       "      <td>NaN</td>\n",
       "      <td>NaN</td>\n",
       "      <td>NaN</td>\n",
       "      <td>12:40</td>\n",
       "      <td>WHITE</td>\n",
       "      <td>46</td>\n",
       "      <td>Standing or parking on the roadway side of a v...</td>\n",
       "      <td>$115</td>\n",
       "      <td>$115</td>\n",
       "      <td>115</td>\n",
       "    </tr>\n",
       "    <tr>\n",
       "      <th>2</th>\n",
       "      <td>1283294163</td>\n",
       "      <td>78755JZ</td>\n",
       "      <td>NY</td>\n",
       "      <td>COM</td>\n",
       "      <td>08/05/2013</td>\n",
       "      <td>46</td>\n",
       "      <td>P-U</td>\n",
       "      <td>CHEVR</td>\n",
       "      <td>P</td>\n",
       "      <td>37030.0</td>\n",
       "      <td>...</td>\n",
       "      <td>NaN</td>\n",
       "      <td>NaN</td>\n",
       "      <td>NaN</td>\n",
       "      <td>12:43</td>\n",
       "      <td>nan</td>\n",
       "      <td>46</td>\n",
       "      <td>Standing or parking on the roadway side of a v...</td>\n",
       "      <td>$115</td>\n",
       "      <td>$115</td>\n",
       "      <td>115</td>\n",
       "    </tr>\n",
       "    <tr>\n",
       "      <th>3</th>\n",
       "      <td>1283294175</td>\n",
       "      <td>63009MA</td>\n",
       "      <td>NY</td>\n",
       "      <td>COM</td>\n",
       "      <td>08/05/2013</td>\n",
       "      <td>46</td>\n",
       "      <td>VAN</td>\n",
       "      <td>FORD</td>\n",
       "      <td>P</td>\n",
       "      <td>37270.0</td>\n",
       "      <td>...</td>\n",
       "      <td>NaN</td>\n",
       "      <td>NaN</td>\n",
       "      <td>NaN</td>\n",
       "      <td>14:32</td>\n",
       "      <td>WHITE</td>\n",
       "      <td>46</td>\n",
       "      <td>Standing or parking on the roadway side of a v...</td>\n",
       "      <td>$115</td>\n",
       "      <td>$115</td>\n",
       "      <td>115</td>\n",
       "    </tr>\n",
       "    <tr>\n",
       "      <th>4</th>\n",
       "      <td>1290834349</td>\n",
       "      <td>429J6JM</td>\n",
       "      <td>NY</td>\n",
       "      <td>COM</td>\n",
       "      <td>07/23/2013</td>\n",
       "      <td>46</td>\n",
       "      <td>DELV</td>\n",
       "      <td>INTER</td>\n",
       "      <td>P</td>\n",
       "      <td>NaN</td>\n",
       "      <td>...</td>\n",
       "      <td>NaN</td>\n",
       "      <td>NaN</td>\n",
       "      <td>NaN</td>\n",
       "      <td>10:37</td>\n",
       "      <td>BR</td>\n",
       "      <td>46</td>\n",
       "      <td>Standing or parking on the roadway side of a v...</td>\n",
       "      <td>$115</td>\n",
       "      <td>$115</td>\n",
       "      <td>115</td>\n",
       "    </tr>\n",
       "  </tbody>\n",
       "</table>\n",
       "<p>5 rows × 51 columns</p>\n",
       "</div>"
      ],
      "text/plain": [
       "   Summons Number Plate ID Registration State Plate Type  Issue Date  \\\n",
       "0      1283294138  GBB9093                 NY        PAS  08/04/2013   \n",
       "1      1283294151  62416MB                 NY        COM  08/04/2013   \n",
       "2      1283294163  78755JZ                 NY        COM  08/05/2013   \n",
       "3      1283294175  63009MA                 NY        COM  08/05/2013   \n",
       "4      1290834349  429J6JM                 NY        COM  07/23/2013   \n",
       "\n",
       "  Violation Code Vehicle Body Type Vehicle Make Issuing Agency  Street Code1  \\\n",
       "0             46              SUBN         AUDI              P       37250.0   \n",
       "1             46               VAN         FORD              P       37290.0   \n",
       "2             46               P-U        CHEVR              P       37030.0   \n",
       "3             46               VAN         FORD              P       37270.0   \n",
       "4             46              DELV        INTER              P           NaN   \n",
       "\n",
       "   ...   Hydrant Violation  Double Parking Violation  Date First Observed New  \\\n",
       "0  ...                 NaN                       NaN                      NaN   \n",
       "1  ...                 NaN                       NaN                      NaN   \n",
       "2  ...                 NaN                       NaN                      NaN   \n",
       "3  ...                 NaN                       NaN                      NaN   \n",
       "4  ...                 NaN                       NaN                      NaN   \n",
       "\n",
       "   Violation Time New  Vehicle Color New  CODE  \\\n",
       "0               07:52                 GY    46   \n",
       "1               12:40              WHITE    46   \n",
       "2               12:43                nan    46   \n",
       "3               14:32              WHITE    46   \n",
       "4               10:37                 BR    46   \n",
       "\n",
       "                                          DEFINITION MANHATTAN  \\\n",
       "0  Standing or parking on the roadway side of a v...     $115    \n",
       "1  Standing or parking on the roadway side of a v...     $115    \n",
       "2  Standing or parking on the roadway side of a v...     $115    \n",
       "3  Standing or parking on the roadway side of a v...     $115    \n",
       "4  Standing or parking on the roadway side of a v...     $115    \n",
       "\n",
       "  ALL OTHER AREAS money  \n",
       "0           $115    115  \n",
       "1           $115    115  \n",
       "2           $115    115  \n",
       "3           $115    115  \n",
       "4           $115    115  \n",
       "\n",
       "[5 rows x 51 columns]"
      ]
     },
     "execution_count": 27,
     "metadata": {},
     "output_type": "execute_result"
    }
   ],
   "source": [
    "parking.head(5)"
   ]
  },
  {
   "cell_type": "code",
   "execution_count": 28,
   "metadata": {
    "collapsed": false
   },
   "outputs": [
    {
     "name": "stdout",
     "output_type": "stream",
     "text": [
      "541 4086 2554 818\n"
     ]
    }
   ],
   "source": [
    "# count 1 : 12a - 6a\n",
    "count1 = 0\n",
    "# count 2 : 6a - 12p\n",
    "count2 = 0\n",
    "# count 3 : 12p - 6p\n",
    "count3 = 0\n",
    "# count 4 : 6p - 12a\n",
    "count4 = 0\n",
    "def get_time(time):\n",
    "    if time == \"NaN\":\n",
    "        pass\n",
    "    else:\n",
    "        time2 = datetime.strptime(time,'%H:%M').strftime('%H')\n",
    "        return time2\n",
    "\n",
    "for i in parking['Violation Time New'].head(8000):\n",
    "    time3 = get_time(i)\n",
    "    if time3 is not None:\n",
    "#     print(i)\n",
    "        if int(time3) <= 6:\n",
    "            count1 += 1\n",
    "        elif int(time3) <=12:\n",
    "            count2 += 1\n",
    "        elif int(time3) <= 18:\n",
    "            count3 += 1\n",
    "        elif int(time3) <= 24:\n",
    "            count4 += 1\n",
    "\n",
    "print(count1,count2,count3,count4) "
   ]
  },
  {
   "cell_type": "code",
   "execution_count": 29,
   "metadata": {
    "collapsed": true
   },
   "outputs": [],
   "source": [
    "##  People usually get their tickets between 6am and 12pm."
   ]
  },
  {
   "cell_type": "markdown",
   "metadata": {},
   "source": [
    "## What's the average ticket cost in NYC?"
   ]
  },
  {
   "cell_type": "code",
   "execution_count": 30,
   "metadata": {
    "collapsed": false
   },
   "outputs": [
    {
     "data": {
      "text/plain": [
       "count    709594.000000\n",
       "mean         83.663433\n",
       "std          31.087863\n",
       "min           0.000000\n",
       "25%          60.000000\n",
       "50%          65.000000\n",
       "75%         115.000000\n",
       "max         200.000000\n",
       "Name: money, dtype: float64"
      ]
     },
     "execution_count": 30,
     "metadata": {},
     "output_type": "execute_result"
    }
   ],
   "source": [
    "parking['money'].describe()"
   ]
  },
  {
   "cell_type": "code",
   "execution_count": 31,
   "metadata": {
    "collapsed": true
   },
   "outputs": [],
   "source": [
    "## The average cost is 83.66 dollars."
   ]
  },
  {
   "cell_type": "markdown",
   "metadata": {},
   "source": [
    "## Make a graph of the number of tickets per day."
   ]
  },
  {
   "cell_type": "code",
   "execution_count": 32,
   "metadata": {
    "collapsed": false
   },
   "outputs": [
    {
     "data": {
      "text/plain": [
       "<matplotlib.axes._subplots.AxesSubplot at 0x10c25bba8>"
      ]
     },
     "execution_count": 32,
     "metadata": {},
     "output_type": "execute_result"
    },
    {
     "data": {
      "image/png": "[encoded data removed]",
      "text/plain": [
       "<matplotlib.figure.Figure at 0x10fc92be0>"
      ]
     },
     "metadata": {},
     "output_type": "display_data"
    }
   ],
   "source": [
    "parking['Issue Date'].value_counts().plot(kind='barh')"
   ]
  },
  {
   "cell_type": "markdown",
   "metadata": {},
   "source": [
    "## Make a graph of the amount of revenue collected per day."
   ]
  },
  {
   "cell_type": "code",
   "execution_count": 41,
   "metadata": {
    "collapsed": false
   },
   "outputs": [
    {
     "data": {
      "text/plain": [
       "array([[<matplotlib.axes._subplots.AxesSubplot object at 0x1172fdb00>]], dtype=object)"
      ]
     },
     "execution_count": 41,
     "metadata": {},
     "output_type": "execute_result"
    },
    {
     "data": {
      "image/png": "[encoded data removed]",
      "text/plain": [
       "<matplotlib.figure.Figure at 0x117302ac8>"
      ]
     },
     "metadata": {},
     "output_type": "display_data"
    }
   ],
   "source": [
    "parking.groupby(['Issue Date'])[['Issue Date','money']].mean().hist(bins=20)"
   ]
  },
  {
   "cell_type": "markdown",
   "metadata": {},
   "source": [
    "## Manually construct a dataframe out of https://dmv.ny.gov/statistic/2015licinforce-web.pdf (only NYC boroughts - bronx, queens, manhattan, staten island, brooklyn), having columns for borough name, abbreviation, and number of licensed drivers."
   ]
  },
  {
   "cell_type": "code",
   "execution_count": 72,
   "metadata": {
    "collapsed": false
   },
   "outputs": [
    {
     "data": {
      "text/html": [
       "<div>\n",
       "<table border=\"1\" class=\"dataframe\">\n",
       "  <thead>\n",
       "    <tr style=\"text-align: right;\">\n",
       "      <th></th>\n",
       "      <th>County</th>\n",
       "      <th>Male</th>\n",
       "      <th>Female</th>\n",
       "      <th>Total</th>\n",
       "      <th>abbreviation</th>\n",
       "    </tr>\n",
       "  </thead>\n",
       "  <tbody>\n",
       "    <tr>\n",
       "      <th>0</th>\n",
       "      <td>BRONX</td>\n",
       "      <td>259845</td>\n",
       "      <td>197002</td>\n",
       "      <td>456847</td>\n",
       "      <td>BX</td>\n",
       "    </tr>\n",
       "    <tr>\n",
       "      <th>1</th>\n",
       "      <td>KINGS</td>\n",
       "      <td>555917</td>\n",
       "      <td>427852</td>\n",
       "      <td>983769</td>\n",
       "      <td>K</td>\n",
       "    </tr>\n",
       "    <tr>\n",
       "      <th>2</th>\n",
       "      <td>NEW YORK</td>\n",
       "      <td>399606</td>\n",
       "      <td>348977</td>\n",
       "      <td>748583</td>\n",
       "      <td>NY</td>\n",
       "    </tr>\n",
       "    <tr>\n",
       "      <th>3</th>\n",
       "      <td>QUEENS</td>\n",
       "      <td>631912</td>\n",
       "      <td>502152</td>\n",
       "      <td>1134064</td>\n",
       "      <td>Q</td>\n",
       "    </tr>\n",
       "    <tr>\n",
       "      <th>4</th>\n",
       "      <td>RICHMOND</td>\n",
       "      <td>156339</td>\n",
       "      <td>147911</td>\n",
       "      <td>304250</td>\n",
       "      <td>R</td>\n",
       "    </tr>\n",
       "  </tbody>\n",
       "</table>\n",
       "</div>"
      ],
      "text/plain": [
       "     County    Male  Female    Total abbreviation\n",
       "0     BRONX  259845  197002   456847           BX\n",
       "1     KINGS  555917  427852   983769            K\n",
       "2  NEW YORK  399606  348977   748583           NY\n",
       "3    QUEENS  631912  502152  1134064            Q\n",
       "4  RICHMOND  156339  147911   304250            R"
      ]
     },
     "execution_count": 72,
     "metadata": {},
     "output_type": "execute_result"
    }
   ],
   "source": [
    "dl_df = pd.read_csv(\"driverlicense.csv\")\n",
    "dl_df"
   ]
  },
  {
   "cell_type": "markdown",
   "metadata": {},
   "source": [
    "## What's the parking-ticket-$-per-licensed-driver in each borough of NYC? Do this with pandas and the dataframe you just made, not with your head!"
   ]
  },
  {
   "cell_type": "code",
   "execution_count": 58,
   "metadata": {
    "collapsed": false
   },
   "outputs": [
    {
     "data": {
      "text/html": [
       "<div>\n",
       "<table border=\"1\" class=\"dataframe\">\n",
       "  <thead>\n",
       "    <tr style=\"text-align: right;\">\n",
       "      <th></th>\n",
       "      <th>money</th>\n",
       "    </tr>\n",
       "    <tr>\n",
       "      <th>Violation County</th>\n",
       "      <th></th>\n",
       "    </tr>\n",
       "  </thead>\n",
       "  <tbody>\n",
       "    <tr>\n",
       "      <th>BRONX</th>\n",
       "      <td>115</td>\n",
       "    </tr>\n",
       "    <tr>\n",
       "      <th>BX</th>\n",
       "      <td>5806880</td>\n",
       "    </tr>\n",
       "    <tr>\n",
       "      <th>K</th>\n",
       "      <td>12312015</td>\n",
       "    </tr>\n",
       "    <tr>\n",
       "      <th>KINGS</th>\n",
       "      <td>115</td>\n",
       "    </tr>\n",
       "    <tr>\n",
       "      <th>NY</th>\n",
       "      <td>29282700</td>\n",
       "    </tr>\n",
       "    <tr>\n",
       "      <th>Q</th>\n",
       "      <td>10588675</td>\n",
       "    </tr>\n",
       "    <tr>\n",
       "      <th>R</th>\n",
       "      <td>621075</td>\n",
       "    </tr>\n",
       "    <tr>\n",
       "      <th>RICH</th>\n",
       "      <td>180</td>\n",
       "    </tr>\n",
       "  </tbody>\n",
       "</table>\n",
       "</div>"
      ],
      "text/plain": [
       "                     money\n",
       "Violation County          \n",
       "BRONX                  115\n",
       "BX                 5806880\n",
       "K                 12312015\n",
       "KINGS                  115\n",
       "NY                29282700\n",
       "Q                 10588675\n",
       "R                   621075\n",
       "RICH                   180"
      ]
     },
     "execution_count": 58,
     "metadata": {},
     "output_type": "execute_result"
    }
   ],
   "source": [
    "parking.groupby(['Violation County'])[['Violation County','money']].sum()"
   ]
  },
  {
   "cell_type": "code",
   "execution_count": 79,
   "metadata": {
    "collapsed": true
   },
   "outputs": [],
   "source": [
    "def county_to_one(co):\n",
    "    co = re.sub(\"BRONX\",\"BX\",str(co))\n",
    "    co = re.sub(\"KINGS\",\"K\",str(co))\n",
    "    co = re.sub(\"RICH\",\"R\",str(co))\n",
    "    return co"
   ]
  },
  {
   "cell_type": "code",
   "execution_count": 85,
   "metadata": {
    "collapsed": false
   },
   "outputs": [
    {
     "data": {
      "text/html": [
       "<div>\n",
       "<table border=\"1\" class=\"dataframe\">\n",
       "  <thead>\n",
       "    <tr style=\"text-align: right;\">\n",
       "      <th></th>\n",
       "      <th>money</th>\n",
       "    </tr>\n",
       "    <tr>\n",
       "      <th>Violation County New</th>\n",
       "      <th></th>\n",
       "    </tr>\n",
       "  </thead>\n",
       "  <tbody>\n",
       "    <tr>\n",
       "      <th>BX</th>\n",
       "      <td>5806995</td>\n",
       "    </tr>\n",
       "    <tr>\n",
       "      <th>K</th>\n",
       "      <td>12312130</td>\n",
       "    </tr>\n",
       "    <tr>\n",
       "      <th>NY</th>\n",
       "      <td>29282700</td>\n",
       "    </tr>\n",
       "    <tr>\n",
       "      <th>Q</th>\n",
       "      <td>10588675</td>\n",
       "    </tr>\n",
       "    <tr>\n",
       "      <th>R</th>\n",
       "      <td>621255</td>\n",
       "    </tr>\n",
       "    <tr>\n",
       "      <th>nan</th>\n",
       "      <td>755315</td>\n",
       "    </tr>\n",
       "  </tbody>\n",
       "</table>\n",
       "</div>"
      ],
      "text/plain": [
       "                         money\n",
       "Violation County New          \n",
       "BX                     5806995\n",
       "K                     12312130\n",
       "NY                    29282700\n",
       "Q                     10588675\n",
       "R                       621255\n",
       "nan                     755315"
      ]
     },
     "execution_count": 85,
     "metadata": {},
     "output_type": "execute_result"
    }
   ],
   "source": [
    "parking['Violation County New'] = parking['Violation County'].apply(county_to_one)\n",
    "parking.groupby(['Violation County New'])[['Violation County New','money']].sum()"
   ]
  },
  {
   "cell_type": "code",
   "execution_count": 107,
   "metadata": {
    "collapsed": false
   },
   "outputs": [
    {
     "data": {
      "text/html": [
       "<div>\n",
       "<table border=\"1\" class=\"dataframe\">\n",
       "  <thead>\n",
       "    <tr style=\"text-align: right;\">\n",
       "      <th></th>\n",
       "      <th>money</th>\n",
       "    </tr>\n",
       "    <tr>\n",
       "      <th>Violation County New</th>\n",
       "      <th></th>\n",
       "    </tr>\n",
       "  </thead>\n",
       "  <tbody>\n",
       "    <tr>\n",
       "      <th>BX</th>\n",
       "      <td>5806995</td>\n",
       "    </tr>\n",
       "    <tr>\n",
       "      <th>K</th>\n",
       "      <td>12312130</td>\n",
       "    </tr>\n",
       "    <tr>\n",
       "      <th>NY</th>\n",
       "      <td>29282700</td>\n",
       "    </tr>\n",
       "    <tr>\n",
       "      <th>Q</th>\n",
       "      <td>10588675</td>\n",
       "    </tr>\n",
       "    <tr>\n",
       "      <th>R</th>\n",
       "      <td>621255</td>\n",
       "    </tr>\n",
       "    <tr>\n",
       "      <th>nan</th>\n",
       "      <td>755315</td>\n",
       "    </tr>\n",
       "  </tbody>\n",
       "</table>\n",
       "</div>"
      ],
      "text/plain": [
       "                         money\n",
       "Violation County New          \n",
       "BX                     5806995\n",
       "K                     12312130\n",
       "NY                    29282700\n",
       "Q                     10588675\n",
       "R                       621255\n",
       "nan                     755315"
      ]
     },
     "execution_count": 107,
     "metadata": {},
     "output_type": "execute_result"
    }
   ],
   "source": [
    "county_money = parking.groupby(['Violation County New'])[['Violation County New','money']].sum()\n",
    "county_money"
   ]
  },
  {
   "cell_type": "code",
   "execution_count": 111,
   "metadata": {
    "collapsed": false
   },
   "outputs": [
    {
     "data": {
      "text/html": [
       "<div>\n",
       "<table border=\"1\" class=\"dataframe\">\n",
       "  <thead>\n",
       "    <tr style=\"text-align: right;\">\n",
       "      <th></th>\n",
       "      <th>Violation County New</th>\n",
       "      <th>money</th>\n",
       "    </tr>\n",
       "  </thead>\n",
       "  <tbody>\n",
       "    <tr>\n",
       "      <th>0</th>\n",
       "      <td>BX</td>\n",
       "      <td>5806995</td>\n",
       "    </tr>\n",
       "    <tr>\n",
       "      <th>1</th>\n",
       "      <td>K</td>\n",
       "      <td>12312130</td>\n",
       "    </tr>\n",
       "    <tr>\n",
       "      <th>2</th>\n",
       "      <td>NY</td>\n",
       "      <td>29282700</td>\n",
       "    </tr>\n",
       "    <tr>\n",
       "      <th>3</th>\n",
       "      <td>Q</td>\n",
       "      <td>10588675</td>\n",
       "    </tr>\n",
       "    <tr>\n",
       "      <th>4</th>\n",
       "      <td>R</td>\n",
       "      <td>621255</td>\n",
       "    </tr>\n",
       "  </tbody>\n",
       "</table>\n",
       "</div>"
      ],
      "text/plain": [
       "  Violation County New     money\n",
       "0                   BX   5806995\n",
       "1                    K  12312130\n",
       "2                   NY  29282700\n",
       "3                    Q  10588675\n",
       "4                    R    621255"
      ]
     },
     "execution_count": 111,
     "metadata": {},
     "output_type": "execute_result"
    }
   ],
   "source": [
    "new_df = pd.read_csv(\"new.csv\")\n",
    "new_df"
   ]
  },
  {
   "cell_type": "code",
   "execution_count": 113,
   "metadata": {
    "collapsed": false
   },
   "outputs": [],
   "source": [
    "merged = new_df.merge(dl_df,left_on='Violation County New',right_on='abbreviation')"
   ]
  },
  {
   "cell_type": "code",
   "execution_count": 118,
   "metadata": {
    "collapsed": false
   },
   "outputs": [
    {
     "data": {
      "text/html": [
       "<div>\n",
       "<table border=\"1\" class=\"dataframe\">\n",
       "  <thead>\n",
       "    <tr style=\"text-align: right;\">\n",
       "      <th></th>\n",
       "      <th>Violation County New</th>\n",
       "      <th>money</th>\n",
       "      <th>County</th>\n",
       "      <th>Male</th>\n",
       "      <th>Female</th>\n",
       "      <th>Total</th>\n",
       "      <th>abbreviation</th>\n",
       "      <th>result</th>\n",
       "    </tr>\n",
       "  </thead>\n",
       "  <tbody>\n",
       "    <tr>\n",
       "      <th>0</th>\n",
       "      <td>BX</td>\n",
       "      <td>5806995</td>\n",
       "      <td>BRONX</td>\n",
       "      <td>259845</td>\n",
       "      <td>197002</td>\n",
       "      <td>456847</td>\n",
       "      <td>BX</td>\n",
       "      <td>12.711028</td>\n",
       "    </tr>\n",
       "    <tr>\n",
       "      <th>1</th>\n",
       "      <td>K</td>\n",
       "      <td>12312130</td>\n",
       "      <td>KINGS</td>\n",
       "      <td>555917</td>\n",
       "      <td>427852</td>\n",
       "      <td>983769</td>\n",
       "      <td>K</td>\n",
       "      <td>12.515265</td>\n",
       "    </tr>\n",
       "    <tr>\n",
       "      <th>2</th>\n",
       "      <td>NY</td>\n",
       "      <td>29282700</td>\n",
       "      <td>NEW YORK</td>\n",
       "      <td>399606</td>\n",
       "      <td>348977</td>\n",
       "      <td>748583</td>\n",
       "      <td>NY</td>\n",
       "      <td>39.117506</td>\n",
       "    </tr>\n",
       "    <tr>\n",
       "      <th>3</th>\n",
       "      <td>Q</td>\n",
       "      <td>10588675</td>\n",
       "      <td>QUEENS</td>\n",
       "      <td>631912</td>\n",
       "      <td>502152</td>\n",
       "      <td>1134064</td>\n",
       "      <td>Q</td>\n",
       "      <td>9.336929</td>\n",
       "    </tr>\n",
       "    <tr>\n",
       "      <th>4</th>\n",
       "      <td>R</td>\n",
       "      <td>621255</td>\n",
       "      <td>RICHMOND</td>\n",
       "      <td>156339</td>\n",
       "      <td>147911</td>\n",
       "      <td>304250</td>\n",
       "      <td>R</td>\n",
       "      <td>2.041923</td>\n",
       "    </tr>\n",
       "  </tbody>\n",
       "</table>\n",
       "</div>"
      ],
      "text/plain": [
       "  Violation County New     money    County    Male  Female    Total  \\\n",
       "0                   BX   5806995     BRONX  259845  197002   456847   \n",
       "1                    K  12312130     KINGS  555917  427852   983769   \n",
       "2                   NY  29282700  NEW YORK  399606  348977   748583   \n",
       "3                    Q  10588675    QUEENS  631912  502152  1134064   \n",
       "4                    R    621255  RICHMOND  156339  147911   304250   \n",
       "\n",
       "  abbreviation     result  \n",
       "0           BX  12.711028  \n",
       "1            K  12.515265  \n",
       "2           NY  39.117506  \n",
       "3            Q   9.336929  \n",
       "4            R   2.041923  "
      ]
     },
     "execution_count": 118,
     "metadata": {},
     "output_type": "execute_result"
    }
   ],
   "source": [
    "merged['result'] = merged['money']/merged['Total']\n",
    "merged"
   ]
  },
  {
   "cell_type": "code",
   "execution_count": 121,
   "metadata": {
    "collapsed": false
   },
   "outputs": [
    {
     "data": {
      "text/plain": [
       "<matplotlib.axes._subplots.AxesSubplot at 0x1188d2160>"
      ]
     },
     "execution_count": 121,
     "metadata": {},
     "output_type": "execute_result"
    },
    {
     "data": {
      "image/png": "[encoded data removed]",
      "text/plain": [
       "<matplotlib.figure.Figure at 0x1188d2400>"
      ]
     },
     "metadata": {},
     "output_type": "display_data"
    }
   ],
   "source": [
    "merged.plot(kind='barh', y='result',x='County',legend = False)"
   ]
  },
  {
   "cell_type": "code",
   "execution_count": null,
   "metadata": {
    "collapsed": true
   },
   "outputs": [],
   "source": []
  }
 ],
 "metadata": {
  "kernelspec": {
   "display_name": "Python 3",
   "language": "python",
   "name": "python3"
  },
  "language_info": {
   "codemirror_mode": {
    "name": "ipython",
    "version": 3
   },
   "file_extension": ".py",
   "mimetype": "text/x-python",
   "name": "python",
   "nbconvert_exporter": "python",
   "pygments_lexer": "ipython3",
   "version": "3.5.1"
  }
 },
 "nbformat": 4,
 "nbformat_minor": 0
}

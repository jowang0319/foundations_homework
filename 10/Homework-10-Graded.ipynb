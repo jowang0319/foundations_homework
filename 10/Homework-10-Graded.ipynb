{
 "cells": [
  {
   "cell_type": "code",
   "execution_count": 8,
   "metadata": {
    "collapsed": false
   },
   "outputs": [
    {
     "name": "stdout",
     "output_type": "stream",
     "text": [
      "8AM Weather forecast: July 04,2016\n",
      "Right now it is 79.67 degrees out and clear . Today will be hot with a high of 82.09 and a low of 63.95 . Bring your umbrella!\n"
     ]
    }
   ],
   "source": [
    "#graded = 10/10\n",
    "\n",
    "import requests\n",
    "import datetime\n",
    "\n",
    "response = requests.get(\"https://api.forecast.io/forecast/c9d64e80aa02ca113562a075e57256d7/40.7128,-74.0059\")\n",
    "data = response.json()['currently']\n",
    "data_day = response.json()['daily']['data'][0]\n",
    "\n",
    "\n",
    "# In[39]:\n",
    "\n",
    "temp_feeling = \"\"\n",
    "if data_day['temperatureMax'] >= 75:\n",
    "    temp_feeling = \"hot\"\n",
    "elif 68 <= data_day['temperatureMax'] < 75:\n",
    "    temp_feeling = 'warm'\n",
    "elif 60 <= data_day['temperatureMax'] < 68:\n",
    "    temp_feeling = 'moderate'\n",
    "else:\n",
    "    temp_feeling = 'cold'\n",
    "\n",
    "rain_w = \"\"\n",
    "if data_day['precipProbability'] > 0.5:\n",
    "    rain_w = '. Bring your umbrella!'\n",
    "else:\n",
    "    rain_w = \".\"\n",
    "\n",
    "output = \"Right now it is\",str(data['temperature']),\"degrees out and\",data['summary'].lower(),\". Today will be\",temp_feeling,\"with a high of\",str(data_day['temperatureMax']),'and a low of',str(data_day['temperatureMin']),rain_w\n",
    "weather = \" \".join(output)\n",
    "today = datetime.datetime.fromtimestamp(int(data['time'])).strftime('%B %d,%Y')\n",
    "default = \"8AM Weather forecast: \"\n",
    "subject = default + today\n",
    "\n",
    "\n",
    "\n",
    "print(subject)\n",
    "print(weather)"
   ]
  },
  {
   "cell_type": "code",
   "execution_count": 7,
   "metadata": {
    "collapsed": false
   },
   "outputs": [
    {
     "data": {
      "text/plain": [
       "'<html>\\r\\n<head><title>400 Bad Request</title></head>\\r\\n<body bgcolor=\"white\">\\r\\n<center><h1>400 Bad Request</h1></center>\\r\\n<hr><center>nginx/1.4.6 (Ubuntu)</center>\\r\\n</body>\\r\\n</html>\\r\\n'"
      ]
     },
     "execution_count": 7,
     "metadata": {},
     "output_type": "execute_result"
    }
   ],
   "source": [
    "\n"
   ]
  },
  {
   "cell_type": "code",
   "execution_count": null,
   "metadata": {
    "collapsed": true
   },
   "outputs": [],
   "source": []
  }
 ],
 "metadata": {
  "kernelspec": {
   "display_name": "Python 3",
   "language": "python",
   "name": "python3"
  },
  "language_info": {
   "codemirror_mode": {
    "name": "ipython",
    "version": 3
   },
   "file_extension": ".py",
   "mimetype": "text/x-python",
   "name": "python",
   "nbconvert_exporter": "python",
   "pygments_lexer": "ipython3",
   "version": "3.5.1"
  }
 },
 "nbformat": 4,
 "nbformat_minor": 0
}
